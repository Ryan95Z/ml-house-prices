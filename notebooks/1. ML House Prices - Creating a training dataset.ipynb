{
 "cells": [
  {
   "cell_type": "code",
   "execution_count": 1,
   "metadata": {},
   "outputs": [
    {
     "data": {
      "text/html": [
       "<div>\n",
       "<style scoped>\n",
       "    .dataframe tbody tr th:only-of-type {\n",
       "        vertical-align: middle;\n",
       "    }\n",
       "\n",
       "    .dataframe tbody tr th {\n",
       "        vertical-align: top;\n",
       "    }\n",
       "\n",
       "    .dataframe thead th {\n",
       "        text-align: right;\n",
       "    }\n",
       "</style>\n",
       "<table border=\"1\" class=\"dataframe\">\n",
       "  <thead>\n",
       "    <tr style=\"text-align: right;\">\n",
       "      <th></th>\n",
       "      <th>MSSubClass</th>\n",
       "      <th>MSZoning</th>\n",
       "      <th>LotFrontage</th>\n",
       "      <th>LotArea</th>\n",
       "      <th>Street</th>\n",
       "      <th>Alley</th>\n",
       "      <th>LotShape</th>\n",
       "      <th>LandContour</th>\n",
       "      <th>Utilities</th>\n",
       "      <th>LotConfig</th>\n",
       "      <th>...</th>\n",
       "      <th>PoolArea</th>\n",
       "      <th>PoolQC</th>\n",
       "      <th>Fence</th>\n",
       "      <th>MiscFeature</th>\n",
       "      <th>MiscVal</th>\n",
       "      <th>MoSold</th>\n",
       "      <th>YrSold</th>\n",
       "      <th>SaleType</th>\n",
       "      <th>SaleCondition</th>\n",
       "      <th>SalePrice</th>\n",
       "    </tr>\n",
       "  </thead>\n",
       "  <tbody>\n",
       "    <tr>\n",
       "      <th>0</th>\n",
       "      <td>60</td>\n",
       "      <td>RL</td>\n",
       "      <td>65.0</td>\n",
       "      <td>8450</td>\n",
       "      <td>Pave</td>\n",
       "      <td>NaN</td>\n",
       "      <td>Reg</td>\n",
       "      <td>Lvl</td>\n",
       "      <td>AllPub</td>\n",
       "      <td>Inside</td>\n",
       "      <td>...</td>\n",
       "      <td>0</td>\n",
       "      <td>NaN</td>\n",
       "      <td>NaN</td>\n",
       "      <td>NaN</td>\n",
       "      <td>0</td>\n",
       "      <td>2</td>\n",
       "      <td>2008</td>\n",
       "      <td>WD</td>\n",
       "      <td>Normal</td>\n",
       "      <td>208500</td>\n",
       "    </tr>\n",
       "    <tr>\n",
       "      <th>1</th>\n",
       "      <td>20</td>\n",
       "      <td>RL</td>\n",
       "      <td>80.0</td>\n",
       "      <td>9600</td>\n",
       "      <td>Pave</td>\n",
       "      <td>NaN</td>\n",
       "      <td>Reg</td>\n",
       "      <td>Lvl</td>\n",
       "      <td>AllPub</td>\n",
       "      <td>FR2</td>\n",
       "      <td>...</td>\n",
       "      <td>0</td>\n",
       "      <td>NaN</td>\n",
       "      <td>NaN</td>\n",
       "      <td>NaN</td>\n",
       "      <td>0</td>\n",
       "      <td>5</td>\n",
       "      <td>2007</td>\n",
       "      <td>WD</td>\n",
       "      <td>Normal</td>\n",
       "      <td>181500</td>\n",
       "    </tr>\n",
       "    <tr>\n",
       "      <th>2</th>\n",
       "      <td>60</td>\n",
       "      <td>RL</td>\n",
       "      <td>68.0</td>\n",
       "      <td>11250</td>\n",
       "      <td>Pave</td>\n",
       "      <td>NaN</td>\n",
       "      <td>IR1</td>\n",
       "      <td>Lvl</td>\n",
       "      <td>AllPub</td>\n",
       "      <td>Inside</td>\n",
       "      <td>...</td>\n",
       "      <td>0</td>\n",
       "      <td>NaN</td>\n",
       "      <td>NaN</td>\n",
       "      <td>NaN</td>\n",
       "      <td>0</td>\n",
       "      <td>9</td>\n",
       "      <td>2008</td>\n",
       "      <td>WD</td>\n",
       "      <td>Normal</td>\n",
       "      <td>223500</td>\n",
       "    </tr>\n",
       "    <tr>\n",
       "      <th>3</th>\n",
       "      <td>70</td>\n",
       "      <td>RL</td>\n",
       "      <td>60.0</td>\n",
       "      <td>9550</td>\n",
       "      <td>Pave</td>\n",
       "      <td>NaN</td>\n",
       "      <td>IR1</td>\n",
       "      <td>Lvl</td>\n",
       "      <td>AllPub</td>\n",
       "      <td>Corner</td>\n",
       "      <td>...</td>\n",
       "      <td>0</td>\n",
       "      <td>NaN</td>\n",
       "      <td>NaN</td>\n",
       "      <td>NaN</td>\n",
       "      <td>0</td>\n",
       "      <td>2</td>\n",
       "      <td>2006</td>\n",
       "      <td>WD</td>\n",
       "      <td>Abnorml</td>\n",
       "      <td>140000</td>\n",
       "    </tr>\n",
       "    <tr>\n",
       "      <th>4</th>\n",
       "      <td>60</td>\n",
       "      <td>RL</td>\n",
       "      <td>84.0</td>\n",
       "      <td>14260</td>\n",
       "      <td>Pave</td>\n",
       "      <td>NaN</td>\n",
       "      <td>IR1</td>\n",
       "      <td>Lvl</td>\n",
       "      <td>AllPub</td>\n",
       "      <td>FR2</td>\n",
       "      <td>...</td>\n",
       "      <td>0</td>\n",
       "      <td>NaN</td>\n",
       "      <td>NaN</td>\n",
       "      <td>NaN</td>\n",
       "      <td>0</td>\n",
       "      <td>12</td>\n",
       "      <td>2008</td>\n",
       "      <td>WD</td>\n",
       "      <td>Normal</td>\n",
       "      <td>250000</td>\n",
       "    </tr>\n",
       "  </tbody>\n",
       "</table>\n",
       "<p>5 rows × 80 columns</p>\n",
       "</div>"
      ],
      "text/plain": [
       "   MSSubClass MSZoning  LotFrontage  LotArea Street Alley LotShape  \\\n",
       "0          60       RL         65.0     8450   Pave   NaN      Reg   \n",
       "1          20       RL         80.0     9600   Pave   NaN      Reg   \n",
       "2          60       RL         68.0    11250   Pave   NaN      IR1   \n",
       "3          70       RL         60.0     9550   Pave   NaN      IR1   \n",
       "4          60       RL         84.0    14260   Pave   NaN      IR1   \n",
       "\n",
       "  LandContour Utilities LotConfig  ... PoolArea PoolQC Fence MiscFeature  \\\n",
       "0         Lvl    AllPub    Inside  ...        0    NaN   NaN         NaN   \n",
       "1         Lvl    AllPub       FR2  ...        0    NaN   NaN         NaN   \n",
       "2         Lvl    AllPub    Inside  ...        0    NaN   NaN         NaN   \n",
       "3         Lvl    AllPub    Corner  ...        0    NaN   NaN         NaN   \n",
       "4         Lvl    AllPub       FR2  ...        0    NaN   NaN         NaN   \n",
       "\n",
       "  MiscVal MoSold  YrSold  SaleType  SaleCondition  SalePrice  \n",
       "0       0      2    2008        WD         Normal     208500  \n",
       "1       0      5    2007        WD         Normal     181500  \n",
       "2       0      9    2008        WD         Normal     223500  \n",
       "3       0      2    2006        WD        Abnorml     140000  \n",
       "4       0     12    2008        WD         Normal     250000  \n",
       "\n",
       "[5 rows x 80 columns]"
      ]
     },
     "execution_count": 1,
     "metadata": {},
     "output_type": "execute_result"
    }
   ],
   "source": [
    "import os\n",
    "import platform\n",
    "import pandas as pd\n",
    "import numpy as np\n",
    "import matplotlib\n",
    "import seaborn as sns\n",
    "import matplotlib.pyplot as plt\n",
    "\n",
    "# Check which platform is running the notebook\n",
    "if platform.system() == 'Windows':\n",
    "    PROJECT_PATH = \"\\\\\".join(os.getcwd().split('\\\\')[:-1])\n",
    "else:\n",
    "    # Assuming a Unix based platform\n",
    "    PROJECT_PATH = \"/\".join(os.getcwd().split('/')[:-1])\n",
    "\n",
    "DATA_PATH = os.path.join(PROJECT_PATH, 'data')\n",
    "TRAIN_DATA_PATH = os.path.join(DATA_PATH, 'train.csv')\n",
    "\n",
    "# Load the training dataset\n",
    "house_prices_train = pd.read_csv(TRAIN_DATA_PATH)\n",
    "house_prices_train = house_prices_train.drop('Id', axis=1)\n",
    "house_prices_train.head()"
   ]
  },
  {
   "cell_type": "markdown",
   "metadata": {},
   "source": [
    "## Creating a training and testing set from the data"
   ]
  },
  {
   "cell_type": "code",
   "execution_count": 2,
   "metadata": {},
   "outputs": [],
   "source": [
    "from sklearn.model_selection import train_test_split\n",
    "\n",
    "RANDOM_STATE = 42\n",
    "test_size = 0.3\n",
    "target_feature = 'SalePrice'\n",
    "\n",
    "X = house_prices_train.drop(target_feature, axis=1)\n",
    "y = house_prices_train[target_feature]\n",
    "\n",
    "X_train, X_test, y_train, y_test = train_test_split(X, y, random_state=RANDOM_STATE, test_size=test_size)"
   ]
  },
  {
   "cell_type": "code",
   "execution_count": 3,
   "metadata": {},
   "outputs": [
    {
     "name": "stdout",
     "output_type": "stream",
     "text": [
      "Training size:  (1022, 79)\n",
      "Testing size:  (438, 79)\n"
     ]
    }
   ],
   "source": [
    "print('Training size: ', X_train.shape)\n",
    "print('Testing size: ', X_test.shape)"
   ]
  },
  {
   "cell_type": "markdown",
   "metadata": {},
   "source": [
    "## Processing the data\n",
    "\n",
    "### Removing features with missing values"
   ]
  },
  {
   "cell_type": "code",
   "execution_count": 4,
   "metadata": {},
   "outputs": [
    {
     "name": "stdout",
     "output_type": "stream",
     "text": [
      "Alley         93.542%\n",
      "PoolQC        99.511%\n",
      "Fence         80.235%\n",
      "MiscFeature   96.086%\n"
     ]
    }
   ],
   "source": [
    "def remove_missing_features(X, threshold=0.8, verbose=False):\n",
    "    features = X.columns\n",
    "    features_to_remove = []\n",
    "    dataset_size = X.shape[0]\n",
    "    for f in features:\n",
    "        missing_count = X[X[f].isna()].shape[0]\n",
    "        missing_ratio = missing_count / dataset_size\n",
    "        if missing_ratio > threshold:\n",
    "            features_to_remove.append(f) \n",
    "            if verbose:\n",
    "                print(\"{:14}{:.3f}%\".format(f, missing_ratio * 100))\n",
    "    return X.drop(features_to_remove, axis=1)\n",
    "\n",
    "# Extract a dataset with null features removed\n",
    "X_train_df = remove_missing_features(X_train, verbose=True)"
   ]
  },
  {
   "cell_type": "markdown",
   "metadata": {},
   "source": [
    "### Removing features with a single value\n",
    "\n",
    "Removing features that all have the same value"
   ]
  },
  {
   "cell_type": "code",
   "execution_count": 5,
   "metadata": {},
   "outputs": [],
   "source": [
    "def remove_single_values(X, verbose=False):\n",
    "    features = X.columns\n",
    "    features_to_remove = []\n",
    "    for f in features:\n",
    "        value_count = X[f].nunique()\n",
    "        if value_count == 1:\n",
    "            features_to_remove.append(f)\n",
    "            if verbose:\n",
    "                print('Removing ', f)\n",
    "    return X.drop(features_to_remove, axis=1)\n",
    "\n",
    "X_train_df = remove_single_values(X_train_df)"
   ]
  },
  {
   "cell_type": "markdown",
   "metadata": {},
   "source": [
    "### Removing Correlated Features"
   ]
  },
  {
   "cell_type": "code",
   "execution_count": 6,
   "metadata": {},
   "outputs": [
    {
     "data": {
      "image/png": "[encoded data removed]",
      "text/plain": [
       "<Figure size 1080x720 with 2 Axes>"
      ]
     },
     "metadata": {
      "needs_background": "light"
     },
     "output_type": "display_data"
    }
   ],
   "source": [
    "def plot_correlation_triangle(X):\n",
    "    corr = X.corr()\n",
    "\n",
    "    mask = np.zeros_like(corr)\n",
    "    mask[np.triu_indices_from(mask)] = True\n",
    "\n",
    "    plt.figure(figsize=(15, 10))\n",
    "    sns.heatmap(corr, mask=mask, center=0, cmap= 'coolwarm')\n",
    "    plt.show()\n",
    "\n",
    "# Plot the heatmap first to see what the correlations are like\n",
    "plot_correlation_triangle(X_train_df)"
   ]
  },
  {
   "cell_type": "code",
   "execution_count": 7,
   "metadata": {},
   "outputs": [],
   "source": [
    "def remove_highly_correlate_features(X, threshold=0.9):\n",
    "    corr = X.corr().abs()\n",
    "    \n",
    "    # Select upper triangle of correlation matrix\n",
    "    upper = corr.where(np.triu(np.ones(corr.shape), k=1).astype(np.bool))\n",
    "    to_remove = [column for column in upper.columns if any(upper[column] > threshold)]\n",
    "    return X.drop(to_remove, axis=1)\n",
    "\n",
    "X_train_df = remove_highly_correlate_features(X_train_df)"
   ]
  },
  {
   "cell_type": "markdown",
   "metadata": {},
   "source": [
    "## Impute missing values"
   ]
  },
  {
   "cell_type": "code",
   "execution_count": 8,
   "metadata": {},
   "outputs": [
    {
     "data": {
      "text/plain": [
       "['LotFrontage',\n",
       " 'MasVnrType',\n",
       " 'MasVnrArea',\n",
       " 'BsmtQual',\n",
       " 'BsmtCond',\n",
       " 'BsmtExposure',\n",
       " 'BsmtFinType1',\n",
       " 'BsmtFinType2',\n",
       " 'Electrical',\n",
       " 'FireplaceQu',\n",
       " 'GarageType',\n",
       " 'GarageYrBlt',\n",
       " 'GarageFinish',\n",
       " 'GarageQual',\n",
       " 'GarageCond']"
      ]
     },
     "execution_count": 8,
     "metadata": {},
     "output_type": "execute_result"
    }
   ],
   "source": [
    "def features_with_missing_values(X):\n",
    "    features = X.columns\n",
    "    dataset_size = X.shape[0]\n",
    "    to_impute = []\n",
    "    for f in features:\n",
    "        feature_count = X[X[f].isna()].shape[0]\n",
    "        if (feature_count != dataset_size) and (feature_count != 0):\n",
    "            to_impute.append(f)\n",
    "    return to_impute\n",
    "\n",
    "numeric_features_to_impute = features_with_missing_values(X_train_df)\n",
    "numeric_features_to_impute"
   ]
  },
  {
   "cell_type": "markdown",
   "metadata": {},
   "source": [
    "Creating a basic impute pipeline where categorical values will have the most frequent value and numeric values will have the median.\n",
    "\n",
    "This pipeline will also process the data by applying a log transformation\n",
    "\n",
    "### Processing Pipeline"
   ]
  },
  {
   "cell_type": "code",
   "execution_count": 9,
   "metadata": {},
   "outputs": [],
   "source": [
    "from sklearn.base import TransformerMixin\n",
    "\n",
    "class SparseToDense(TransformerMixin):\n",
    "    def fit(self, X, y=None):\n",
    "        return self\n",
    "    \n",
    "    def transform(self, X):\n",
    "        return X.todense()"
   ]
  },
  {
   "cell_type": "code",
   "execution_count": 10,
   "metadata": {},
   "outputs": [],
   "source": [
    "from sklearn.pipeline import Pipeline\n",
    "from sklearn.compose import ColumnTransformer\n",
    "from sklearn.impute import SimpleImputer\n",
    "from sklearn.preprocessing import OneHotEncoder, FunctionTransformer\n",
    "\n",
    "numeric_cols = X_train_df.select_dtypes(['float64', 'int64']).columns.tolist()\n",
    "cateorical_cols = X_train_df.select_dtypes(['object']).columns.tolist()\n",
    "\n",
    "numeric_pipeline = Pipeline([\n",
    "    ('impute', SimpleImputer(strategy='median')),\n",
    "    ('log', FunctionTransformer(np.log1p))\n",
    "])\n",
    "\n",
    "categorical_pipeline = Pipeline([\n",
    "    ('impute', SimpleImputer(strategy='most_frequent')),\n",
    "    ('one_hot', OneHotEncoder(handle_unknown='ignore'))\n",
    "])\n",
    "\n",
    "processing_pipeline = Pipeline([\n",
    "    ('process', ColumnTransformer([\n",
    "        ('numeric', numeric_pipeline, numeric_cols),\n",
    "        ('categorical', categorical_pipeline, cateorical_cols),\n",
    "    ])),\n",
    "    ('dense', SparseToDense())\n",
    "])"
   ]
  },
  {
   "cell_type": "code",
   "execution_count": 11,
   "metadata": {},
   "outputs": [
    {
     "data": {
      "text/plain": [
       "(1022, 270)"
      ]
     },
     "execution_count": 11,
     "metadata": {},
     "output_type": "execute_result"
    }
   ],
   "source": [
    "X_train_processed = processing_pipeline.fit_transform(X_train)\n",
    "X_train_processed.shape"
   ]
  },
  {
   "cell_type": "code",
   "execution_count": 12,
   "metadata": {},
   "outputs": [
    {
     "data": {
      "text/plain": [
       "(1022, 50)"
      ]
     },
     "execution_count": 12,
     "metadata": {},
     "output_type": "execute_result"
    }
   ],
   "source": [
    "from sklearn.feature_selection import SelectKBest, f_regression\n",
    "\n",
    "# Get the best 50 features\n",
    "k_best = SelectKBest(score_func=f_regression, k=50)\n",
    "X_train_k_best = k_best.fit_transform(X_train_processed, y_train)\n",
    "X_train_k_best.shape"
   ]
  },
  {
   "cell_type": "code",
   "execution_count": 13,
   "metadata": {},
   "outputs": [],
   "source": [
    "processed_cateogires_features = np.concatenate(\n",
    "    processing_pipeline['process'].transformers_[1][1]['one_hot'].categories_\n",
    ")\n",
    "\n",
    "processed_columns = np.asarray(numeric_cols + processed_cateogires_features.tolist())"
   ]
  },
  {
   "cell_type": "code",
   "execution_count": 15,
   "metadata": {},
   "outputs": [
    {
     "data": {
      "text/plain": [
       "array(['LotFrontage', 'LotArea', 'OverallQual', 'YearBuilt',\n",
       "       'YearRemodAdd', 'MasVnrArea', 'TotalBsmtSF', '1stFlrSF',\n",
       "       'GrLivArea', 'FullBath', 'HalfBath', 'TotRmsAbvGrd', 'Fireplaces',\n",
       "       'GarageYrBlt', 'GarageCars', 'GarageArea', 'WoodDeckSF',\n",
       "       'OpenPorchSF', 'RL', 'RM', 'Reg', 'NoRidge', 'NridgHt', 'VinylSd',\n",
       "       'VinylSd', 'None', 'Stone', 'Ex', 'Gd', 'TA', 'CBlock', 'PConc',\n",
       "       'Ex', 'TA', 'Gd', 'No', 'GLQ', 'Ex', 'TA', 'N', 'Y', 'Ex', 'Gd',\n",
       "       'TA', 'Ex', 'Detchd', 'Fin', 'Unf', 'New', 'Partial'], dtype='<U13')"
      ]
     },
     "execution_count": 15,
     "metadata": {},
     "output_type": "execute_result"
    }
   ],
   "source": [
    "feature_indices = np.where(k_best.get_support())[0].tolist()\n",
    "processed_columns[feature_indices]"
   ]
  },
  {
   "cell_type": "markdown",
   "metadata": {},
   "source": [
    "## Modelling the data"
   ]
  },
  {
   "cell_type": "code",
   "execution_count": 19,
   "metadata": {},
   "outputs": [
    {
     "name": "stdout",
     "output_type": "stream",
     "text": [
      "Training  SVR\n",
      "Training  RandomForestRegressor\n",
      "Training  GradientBoostingRegressor\n",
      "Training  GaussianProcessRegressor\n",
      "Training  SGDRegressor\n",
      "Training  Ridge\n",
      "Training  KNeighborsRegressor\n"
     ]
    }
   ],
   "source": [
    "from sklearn.svm import SVR\n",
    "from sklearn.ensemble import RandomForestRegressor, GradientBoostingRegressor\n",
    "from sklearn.gaussian_process import GaussianProcessRegressor\n",
    "from sklearn.linear_model import SGDRegressor, Ridge\n",
    "from sklearn.neighbors import KNeighborsRegressor\n",
    "\n",
    "clfs = [\n",
    "    SVR(),\n",
    "    RandomForestRegressor(random_state=RANDOM_STATE),\n",
    "    GradientBoostingRegressor(random_state=RANDOM_STATE),\n",
    "    GaussianProcessRegressor(random_state=RANDOM_STATE),\n",
    "    SGDRegressor(random_state=RANDOM_STATE),\n",
    "    Ridge(random_state=RANDOM_STATE),\n",
    "    KNeighborsRegressor()\n",
    "]\n",
    "\n",
    "for clf in clfs:\n",
    "    clf_name = clf.__class__.__name__\n",
    "    print('Training ', clf_name)\n",
    "    clf.fit(X_train_k_best, y_train)"
   ]
  },
  {
   "cell_type": "code",
   "execution_count": 24,
   "metadata": {},
   "outputs": [],
   "source": [
    "from sklearn.metrics import mean_squared_error, mean_squared_log_error\n",
    "\n",
    "def root_mean_squared_error(y_true, y_pred):\n",
    "    return np.sqrt(mean_squared_error(y_true, y_pred))\n",
    "\n",
    "def root_mean_log_error(y_true, y_pred):\n",
    "    try:\n",
    "        return np.sqrt(mean_squared_log_error(y_true, y_pred))\n",
    "    except ValueError:\n",
    "        return -1000"
   ]
  },
  {
   "cell_type": "code",
   "execution_count": 30,
   "metadata": {},
   "outputs": [
    {
     "name": "stdout",
     "output_type": "stream",
     "text": [
      "0 - SVR                                 RMSE: 79258.366, RMLSE: 0.394\n",
      "1 - RandomForestRegressor               RMSE: 12589.591, RMLSE: 0.064\n",
      "2 - GradientBoostingRegressor           RMSE: 15698.073, RMLSE: 0.099\n",
      "3 - GaussianProcessRegressor            RMSE: 0.000, RMLSE: 0.000\n",
      "4 - SGDRegressor                        RMSE: 7642033.598, RMLSE: -1000.000\n",
      "5 - Ridge                               RMSE: 31973.888, RMLSE: -1000.000\n",
      "6 - KNeighborsRegressor                 RMSE: 33509.813, RMLSE: 0.162\n"
     ]
    }
   ],
   "source": [
    "for idx, clf in enumerate(clfs):\n",
    "    y_pred = clf.predict(X_train_k_best)\n",
    "    rmse = root_mean_squared_error(y_pred, y_train)\n",
    "    rmlse = root_mean_log_error(y_pred, y_train)\n",
    "    print('{} - {:35} RMSE: {:.3f}, RMLSE: {:.3f}'.format(idx, clf.__class__.__name__, rmse, rmlse))"
   ]
  },
  {
   "cell_type": "markdown",
   "metadata": {},
   "source": [
    "The most promising models are:\n",
    "\n",
    "1. Random Forest Regressor\n",
    "2. Gradient Boosting Regressor\n",
    "3. Potentially Gaussian Process Regressor, however this looks like it is overfitting its data        "
   ]
  },
  {
   "cell_type": "code",
   "execution_count": 45,
   "metadata": {},
   "outputs": [],
   "source": [
    "from sklearn.model_selection import cross_val_score\n",
    "\n",
    "def cross_val_regression(clf, X, y, cv=3):\n",
    "    neg_mse_scores = cross_val_score(clf, X, y, scoring='neg_mean_squared_error', cv=cv)\n",
    "    neg_log_scores = cross_val_score(clf, X, y, scoring='neg_mean_squared_log_error', cv=cv)\n",
    "    return {\n",
    "        'rmse': (np.sqrt(-neg_mse_scores)).mean(),\n",
    "        'rmlse': (np.sqrt(-neg_log_scores)).mean()\n",
    "    }"
   ]
  },
  {
   "cell_type": "code",
   "execution_count": 46,
   "metadata": {},
   "outputs": [
    {
     "name": "stdout",
     "output_type": "stream",
     "text": [
      "GaussianProcessRegressor: RMSE 126305.140, RMLSE: 1.607\n"
     ]
    }
   ],
   "source": [
    "guass_reg = GaussianProcessRegressor(random_state=RANDOM_STATE)\n",
    "scores = cross_val_regression(guass_reg, X_train_k_best, y_train, cv=5)\n",
    "print('GaussianProcessRegressor: RMSE {:.3f}, RMLSE: {:.3f}'.format(scores['rmse'], scores['rmlse']))"
   ]
  },
  {
   "cell_type": "markdown",
   "metadata": {},
   "source": [
    "Apply K cross folds, we can observe that the results of the model are not that great in reality.\n",
    "\n",
    "Cross folders on Random Forest Regressor and Gradient Boosting Regressor"
   ]
  },
  {
   "cell_type": "code",
   "execution_count": 48,
   "metadata": {},
   "outputs": [
    {
     "name": "stdout",
     "output_type": "stream",
     "text": [
      "RandomForestRegressor: RMSE 34377.051, RMLSE: 0.158\n",
      "GradientBoostingRegressor: RMSE 36706.326, RMLSE: 0.157\n"
     ]
    }
   ],
   "source": [
    "rand_reg = RandomForestRegressor(random_state=RANDOM_STATE)\n",
    "grad_boost_reg = GradientBoostingRegressor(random_state=RANDOM_STATE)\n",
    "\n",
    "for clf in [rand_reg, grad_boost_reg]:\n",
    "    scores = cross_val_regression(clf, X_train_k_best, y_train, cv=5)\n",
    "    print('{}: RMSE {:.3f}, RMLSE: {:.3f}'.format(clf.__class__.__name__, scores['rmse'], scores['rmlse']))"
   ]
  },
  {
   "cell_type": "markdown",
   "metadata": {},
   "source": [
    "Looking at the results, the RandomForestRegressor is performing much better compared to the GradientBoostingRegressor\n",
    "\n",
    "## Refining the best model\n",
    "\n",
    "Refining the random forest regressor"
   ]
  },
  {
   "cell_type": "code",
   "execution_count": 53,
   "metadata": {},
   "outputs": [
    {
     "name": "stdout",
     "output_type": "stream",
     "text": [
      "Fitting 3 folds for each of 40 candidates, totalling 120 fits\n"
     ]
    },
    {
     "name": "stderr",
     "output_type": "stream",
     "text": [
      "[Parallel(n_jobs=2)]: Using backend LokyBackend with 2 concurrent workers.\n",
      "[Parallel(n_jobs=2)]: Done  37 tasks      | elapsed:   27.5s\n",
      "[Parallel(n_jobs=2)]: Done 120 out of 120 | elapsed:  5.3min finished\n"
     ]
    },
    {
     "data": {
      "text/plain": [
       "GridSearchCV(cv=3, error_score=nan,\n",
       "             estimator=RandomForestRegressor(bootstrap=True, ccp_alpha=0.0,\n",
       "                                             criterion='mse', max_depth=None,\n",
       "                                             max_features='auto',\n",
       "                                             max_leaf_nodes=None,\n",
       "                                             max_samples=None,\n",
       "                                             min_impurity_decrease=0.0,\n",
       "                                             min_impurity_split=None,\n",
       "                                             min_samples_leaf=1,\n",
       "                                             min_samples_split=2,\n",
       "                                             min_weight_fraction_leaf=0.0,\n",
       "                                             n_estimators=100, n_jobs=None,\n",
       "                                             oob_score=False, random_state=42,\n",
       "                                             verbose=0, warm_start=False),\n",
       "             iid='deprecated', n_jobs=2,\n",
       "             param_grid=[{'bootstrap': [True, False],\n",
       "                          'criterion': ['mse', 'mae'],\n",
       "                          'n_estimators': [100, 200, 300, 400, 500],\n",
       "                          'n_jobs': [2], 'warm_start': [True, False]}],\n",
       "             pre_dispatch='2*n_jobs', refit=True, return_train_score=False,\n",
       "             scoring='neg_mean_squared_error', verbose=2)"
      ]
     },
     "execution_count": 53,
     "metadata": {},
     "output_type": "execute_result"
    }
   ],
   "source": [
    "from sklearn.model_selection import GridSearchCV\n",
    "\n",
    "# Create the baseline model\n",
    "rand_reg = RandomForestRegressor(random_state=RANDOM_STATE)\n",
    "\n",
    "param_grid = [\n",
    "    {\n",
    "        'n_estimators': [100, 200, 300, 400, 500],\n",
    "        'criterion': ['mse', 'mae'],\n",
    "        'warm_start': [True, False],\n",
    "        'bootstrap': [True, False],\n",
    "        'n_jobs': [2]\n",
    "    }\n",
    "]\n",
    "\n",
    "rand_reg_grid_search = GridSearchCV(rand_reg, param_grid, cv=3, verbose=2, n_jobs=2, scoring='neg_mean_squared_error')\n",
    "rand_reg_grid_search.fit(X_train_k_best, y_train)"
   ]
  },
  {
   "cell_type": "markdown",
   "metadata": {},
   "source": [
    "Looking at the results"
   ]
  },
  {
   "cell_type": "code",
   "execution_count": 54,
   "metadata": {},
   "outputs": [
    {
     "data": {
      "text/plain": [
       "{'bootstrap': True,\n",
       " 'criterion': 'mae',\n",
       " 'n_estimators': 400,\n",
       " 'n_jobs': 2,\n",
       " 'warm_start': True}"
      ]
     },
     "execution_count": 54,
     "metadata": {},
     "output_type": "execute_result"
    }
   ],
   "source": [
    "rand_reg_grid_search.best_params_"
   ]
  },
  {
   "cell_type": "code",
   "execution_count": 56,
   "metadata": {},
   "outputs": [
    {
     "data": {
      "text/plain": [
       "32613.000375823467"
      ]
     },
     "execution_count": 56,
     "metadata": {},
     "output_type": "execute_result"
    }
   ],
   "source": [
    "np.sqrt(-rand_reg_grid_search.best_score_)"
   ]
  },
  {
   "cell_type": "code",
   "execution_count": 57,
   "metadata": {},
   "outputs": [
    {
     "name": "stdout",
     "output_type": "stream",
     "text": [
      "Best Random Forest Regressor Model: RMSE: 34031.142 RMLSE: 0.159\n"
     ]
    }
   ],
   "source": [
    "best_rand_reg = rand_reg_grid_search.best_estimator_\n",
    "\n",
    "scores = cross_val_regression(best_rand_reg, X_train_k_best, y_train, cv=5)\n",
    "print('Best Random Forest Regressor Model: RMSE: {:.3f} RMLSE: {:.3f}'.format(scores['rmse'], scores['rmlse']))"
   ]
  },
  {
   "cell_type": "markdown",
   "metadata": {},
   "source": [
    "Compared to the baseline model, there is only a minor improvement in the results"
   ]
  },
  {
   "cell_type": "markdown",
   "metadata": {},
   "source": [
    "## Applying dimensionality reduction\n",
    "\n",
    "Appling dimensionality reduction to the best 50 features dataset to see if we can get the same result with fewer features"
   ]
  },
  {
   "cell_type": "code",
   "execution_count": 60,
   "metadata": {},
   "outputs": [],
   "source": [
    "from sklearn.decomposition import PCA\n",
    "\n",
    "# Remove by getting data that has 99% variance\n",
    "pca = PCA(random_state=RANDOM_STATE, n_components=0.99)\n",
    "X_train_pca = pca.fit_transform(X_train_k_best)"
   ]
  },
  {
   "cell_type": "code",
   "execution_count": 66,
   "metadata": {},
   "outputs": [
    {
     "name": "stdout",
     "output_type": "stream",
     "text": [
      "PCA 30, Before: 50, 20 features removed\n"
     ]
    }
   ],
   "source": [
    "n_components = pca.n_components_\n",
    "input_features = X_train_k_best.shape[1]\n",
    "print('PCA {}, Before: {}, {} features removed'.format(\n",
    "    n_components,\n",
    "    input_features,\n",
    "    (input_features - n_components)))"
   ]
  },
  {
   "cell_type": "code",
   "execution_count": 70,
   "metadata": {},
   "outputs": [
    {
     "name": "stdout",
     "output_type": "stream",
     "text": [
      "Wall time: 0 ns\n"
     ]
    }
   ],
   "source": [
    "# Applying this dataset to see if the model maintains the same results\n",
    "rand_reg = RandomForestRegressor(random_state=RANDOM_STATE, **rand_reg_grid_search.best_params_)\n",
    "\n",
    "%time\n",
    "scores = cross_val_regression(rand_reg, X_train_pca, y_train, cv=5)"
   ]
  },
  {
   "cell_type": "code",
   "execution_count": 73,
   "metadata": {},
   "outputs": [
    {
     "name": "stdout",
     "output_type": "stream",
     "text": [
      "PCA Random Forest: RMSE 39295.148, RMLSE 0.190\n"
     ]
    }
   ],
   "source": [
    "print('PCA Random Forest: RMSE {:.3f}, RMLSE {:.3f}'.format(scores['rmse'], scores['rmlse']))"
   ]
  },
  {
   "cell_type": "markdown",
   "metadata": {},
   "source": [
    "A minor decrease in performance compared to the original features. Though still relatively close to the original best model"
   ]
  },
  {
   "cell_type": "markdown",
   "metadata": {},
   "source": [
    "Apply PCA again to the K best dataset, but this time try to get the dataset reduce into 2D so it can be visualised"
   ]
  },
  {
   "cell_type": "code",
   "execution_count": 74,
   "metadata": {},
   "outputs": [],
   "source": [
    "pca_2d = PCA(random_state=RANDOM_STATE, n_components=2)\n",
    "X_train_2d = pca_2d.fit_transform(X_train_k_best)"
   ]
  },
  {
   "cell_type": "code",
   "execution_count": 80,
   "metadata": {},
   "outputs": [
    {
     "data": {
      "image/png": "[encoded data removed]",
      "text/plain": [
       "<Figure size 720x360 with 1 Axes>"
      ]
     },
     "metadata": {
      "needs_background": "light"
     },
     "output_type": "display_data"
    }
   ],
   "source": [
    "plt.figure(figsize=(10, 5))\n",
    "plt.scatter(X_train_2d[:, 0], X_train_2d[:, 1])\n",
    "plt.xlabel('Component 1')\n",
    "plt.ylabel('Component 2')\n",
    "plt.show()"
   ]
  },
  {
   "cell_type": "markdown",
   "metadata": {},
   "source": [
    "We can clearly see 4 distinct clusters in the dataset. Applying some unsupervised methods such as Kmeans to see if there is any significance to these groups.\n",
    "\n",
    "### Clustering the results"
   ]
  },
  {
   "cell_type": "code",
   "execution_count": 91,
   "metadata": {},
   "outputs": [],
   "source": [
    "from sklearn.cluster import KMeans\n",
    "\n",
    "def kmeans_elbow_approach(max_clusters, X):\n",
    "    sum_squared_distances = []\n",
    "    for c in range(2, max_clusters + 1):\n",
    "        kmeans = KMeans(random_state=RANDOM_STATE, n_clusters=c)\n",
    "        kmeans.fit(X)\n",
    "        sum_squared_distances.append(kmeans.inertia_)\n",
    "    return sum_squared_distances\n",
    "\n",
    "def plot_elbow_approach(max_clusters, sum_squared_distances):\n",
    "    r = range(2, max_clusters + 1)\n",
    "    plt.plot(r, sum_squared_distances, '-o')\n",
    "    plt.xlabel('N Clusters')\n",
    "    plt.ylabel('Sum of Squared Errors')\n",
    "    plt.show()"
   ]
  },
  {
   "cell_type": "code",
   "execution_count": 83,
   "metadata": {},
   "outputs": [],
   "source": [
    "sum_squared_distances_kmeans = kmeans_elbow_approach(10, X_train_2d)"
   ]
  },
  {
   "cell_type": "code",
   "execution_count": 92,
   "metadata": {},
   "outputs": [
    {
     "data": {
      "image/png": "[encoded data removed]",
      "text/plain": [
       "<Figure size 432x288 with 1 Axes>"
      ]
     },
     "metadata": {
      "needs_background": "light"
     },
     "output_type": "display_data"
    }
   ],
   "source": [
    "plot_elbow_approach(10, sum_squared_distances_kmeans)"
   ]
  },
  {
   "cell_type": "code",
   "execution_count": 93,
   "metadata": {},
   "outputs": [],
   "source": [
    "k_means = KMeans(random_state=RANDOM_STATE, n_clusters=4)\n",
    "clusters = k_means.fit_predict(X_train_2d)"
   ]
  },
  {
   "cell_type": "code",
   "execution_count": 95,
   "metadata": {},
   "outputs": [
    {
     "data": {
      "image/png": "[encoded data removed]",
      "text/plain": [
       "<Figure size 720x360 with 1 Axes>"
      ]
     },
     "metadata": {
      "needs_background": "light"
     },
     "output_type": "display_data"
    }
   ],
   "source": [
    "plt.figure(figsize=(10, 5))\n",
    "plt.scatter(X_train_2d[:, 0], X_train_2d[:, 1], c=clusters)\n",
    "plt.xlabel('Component 1')\n",
    "plt.ylabel('Component 2')\n",
    "plt.title('Clusters of training data in 2D')\n",
    "plt.show()"
   ]
  },
  {
   "cell_type": "markdown",
   "metadata": {},
   "source": [
    "We can see 4 distinct clusters from the results."
   ]
  },
  {
   "cell_type": "code",
   "execution_count": 115,
   "metadata": {},
   "outputs": [],
   "source": [
    "# Create a dataframe of the 4 clusters\n",
    "k_best_columns = processed_columns[feature_indices].tolist()\n",
    "X_train_k_df = pd.DataFrame(X_train_k_best, columns=k_best_columns)\n",
    "X_train_k_df['cluster'] = clusters"
   ]
  },
  {
   "cell_type": "code",
   "execution_count": 116,
   "metadata": {},
   "outputs": [
    {
     "data": {
      "text/plain": [
       "0    351\n",
       "1    240\n",
       "2    243\n",
       "3    188\n",
       "Name: cluster, dtype: int64"
      ]
     },
     "execution_count": 116,
     "metadata": {},
     "output_type": "execute_result"
    }
   ],
   "source": [
    "X_train_k_df['cluster'].value_counts().sort_index()"
   ]
  },
  {
   "cell_type": "code",
   "execution_count": 121,
   "metadata": {},
   "outputs": [],
   "source": [
    "X_train_clusters_df = X_train.copy()\n",
    "X_train_clusters_df['cluster'] = clusters"
   ]
  },
  {
   "cell_type": "code",
   "execution_count": 123,
   "metadata": {},
   "outputs": [
    {
     "data": {
      "text/html": [
       "<div>\n",
       "<style scoped>\n",
       "    .dataframe tbody tr th:only-of-type {\n",
       "        vertical-align: middle;\n",
       "    }\n",
       "\n",
       "    .dataframe tbody tr th {\n",
       "        vertical-align: top;\n",
       "    }\n",
       "\n",
       "    .dataframe thead tr th {\n",
       "        text-align: left;\n",
       "    }\n",
       "\n",
       "    .dataframe thead tr:last-of-type th {\n",
       "        text-align: right;\n",
       "    }\n",
       "</style>\n",
       "<table border=\"1\" class=\"dataframe\">\n",
       "  <thead>\n",
       "    <tr>\n",
       "      <th></th>\n",
       "      <th colspan=\"8\" halign=\"left\">MSSubClass</th>\n",
       "      <th colspan=\"2\" halign=\"left\">LotFrontage</th>\n",
       "      <th>...</th>\n",
       "      <th colspan=\"2\" halign=\"left\">MoSold</th>\n",
       "      <th colspan=\"8\" halign=\"left\">YrSold</th>\n",
       "    </tr>\n",
       "    <tr>\n",
       "      <th></th>\n",
       "      <th>count</th>\n",
       "      <th>mean</th>\n",
       "      <th>std</th>\n",
       "      <th>min</th>\n",
       "      <th>25%</th>\n",
       "      <th>50%</th>\n",
       "      <th>75%</th>\n",
       "      <th>max</th>\n",
       "      <th>count</th>\n",
       "      <th>mean</th>\n",
       "      <th>...</th>\n",
       "      <th>75%</th>\n",
       "      <th>max</th>\n",
       "      <th>count</th>\n",
       "      <th>mean</th>\n",
       "      <th>std</th>\n",
       "      <th>min</th>\n",
       "      <th>25%</th>\n",
       "      <th>50%</th>\n",
       "      <th>75%</th>\n",
       "      <th>max</th>\n",
       "    </tr>\n",
       "    <tr>\n",
       "      <th>cluster</th>\n",
       "      <th></th>\n",
       "      <th></th>\n",
       "      <th></th>\n",
       "      <th></th>\n",
       "      <th></th>\n",
       "      <th></th>\n",
       "      <th></th>\n",
       "      <th></th>\n",
       "      <th></th>\n",
       "      <th></th>\n",
       "      <th></th>\n",
       "      <th></th>\n",
       "      <th></th>\n",
       "      <th></th>\n",
       "      <th></th>\n",
       "      <th></th>\n",
       "      <th></th>\n",
       "      <th></th>\n",
       "      <th></th>\n",
       "      <th></th>\n",
       "      <th></th>\n",
       "    </tr>\n",
       "  </thead>\n",
       "  <tbody>\n",
       "    <tr>\n",
       "      <th>0</th>\n",
       "      <td>351.0</td>\n",
       "      <td>53.717949</td>\n",
       "      <td>41.895212</td>\n",
       "      <td>20.0</td>\n",
       "      <td>20.0</td>\n",
       "      <td>50.0</td>\n",
       "      <td>70.00</td>\n",
       "      <td>190.0</td>\n",
       "      <td>304.0</td>\n",
       "      <td>68.125000</td>\n",
       "      <td>...</td>\n",
       "      <td>7.0</td>\n",
       "      <td>12.0</td>\n",
       "      <td>351.0</td>\n",
       "      <td>2007.683761</td>\n",
       "      <td>1.322225</td>\n",
       "      <td>2006.0</td>\n",
       "      <td>2007.0</td>\n",
       "      <td>2008.0</td>\n",
       "      <td>2009.0</td>\n",
       "      <td>2010.0</td>\n",
       "    </tr>\n",
       "    <tr>\n",
       "      <th>1</th>\n",
       "      <td>240.0</td>\n",
       "      <td>53.979167</td>\n",
       "      <td>36.325752</td>\n",
       "      <td>20.0</td>\n",
       "      <td>20.0</td>\n",
       "      <td>60.0</td>\n",
       "      <td>60.00</td>\n",
       "      <td>160.0</td>\n",
       "      <td>192.0</td>\n",
       "      <td>77.140625</td>\n",
       "      <td>...</td>\n",
       "      <td>8.0</td>\n",
       "      <td>12.0</td>\n",
       "      <td>240.0</td>\n",
       "      <td>2007.770833</td>\n",
       "      <td>1.294332</td>\n",
       "      <td>2006.0</td>\n",
       "      <td>2007.0</td>\n",
       "      <td>2008.0</td>\n",
       "      <td>2009.0</td>\n",
       "      <td>2010.0</td>\n",
       "    </tr>\n",
       "    <tr>\n",
       "      <th>2</th>\n",
       "      <td>243.0</td>\n",
       "      <td>60.637860</td>\n",
       "      <td>43.292973</td>\n",
       "      <td>20.0</td>\n",
       "      <td>20.0</td>\n",
       "      <td>60.0</td>\n",
       "      <td>70.00</td>\n",
       "      <td>190.0</td>\n",
       "      <td>194.0</td>\n",
       "      <td>66.634021</td>\n",
       "      <td>...</td>\n",
       "      <td>8.0</td>\n",
       "      <td>12.0</td>\n",
       "      <td>243.0</td>\n",
       "      <td>2007.958848</td>\n",
       "      <td>1.329246</td>\n",
       "      <td>2006.0</td>\n",
       "      <td>2007.0</td>\n",
       "      <td>2008.0</td>\n",
       "      <td>2009.0</td>\n",
       "      <td>2010.0</td>\n",
       "    </tr>\n",
       "    <tr>\n",
       "      <th>3</th>\n",
       "      <td>188.0</td>\n",
       "      <td>62.606383</td>\n",
       "      <td>49.628183</td>\n",
       "      <td>20.0</td>\n",
       "      <td>20.0</td>\n",
       "      <td>60.0</td>\n",
       "      <td>81.25</td>\n",
       "      <td>190.0</td>\n",
       "      <td>142.0</td>\n",
       "      <td>71.154930</td>\n",
       "      <td>...</td>\n",
       "      <td>8.0</td>\n",
       "      <td>12.0</td>\n",
       "      <td>188.0</td>\n",
       "      <td>2007.925532</td>\n",
       "      <td>1.350297</td>\n",
       "      <td>2006.0</td>\n",
       "      <td>2007.0</td>\n",
       "      <td>2008.0</td>\n",
       "      <td>2009.0</td>\n",
       "      <td>2010.0</td>\n",
       "    </tr>\n",
       "  </tbody>\n",
       "</table>\n",
       "<p>4 rows × 288 columns</p>\n",
       "</div>"
      ],
      "text/plain": [
       "        MSSubClass                                                        \\\n",
       "             count       mean        std   min   25%   50%    75%    max   \n",
       "cluster                                                                    \n",
       "0            351.0  53.717949  41.895212  20.0  20.0  50.0  70.00  190.0   \n",
       "1            240.0  53.979167  36.325752  20.0  20.0  60.0  60.00  160.0   \n",
       "2            243.0  60.637860  43.292973  20.0  20.0  60.0  70.00  190.0   \n",
       "3            188.0  62.606383  49.628183  20.0  20.0  60.0  81.25  190.0   \n",
       "\n",
       "        LotFrontage             ... MoSold       YrSold               \\\n",
       "              count       mean  ...    75%   max  count         mean   \n",
       "cluster                         ...                                    \n",
       "0             304.0  68.125000  ...    7.0  12.0  351.0  2007.683761   \n",
       "1             192.0  77.140625  ...    8.0  12.0  240.0  2007.770833   \n",
       "2             194.0  66.634021  ...    8.0  12.0  243.0  2007.958848   \n",
       "3             142.0  71.154930  ...    8.0  12.0  188.0  2007.925532   \n",
       "\n",
       "                                                           \n",
       "              std     min     25%     50%     75%     max  \n",
       "cluster                                                    \n",
       "0        1.322225  2006.0  2007.0  2008.0  2009.0  2010.0  \n",
       "1        1.294332  2006.0  2007.0  2008.0  2009.0  2010.0  \n",
       "2        1.329246  2006.0  2007.0  2008.0  2009.0  2010.0  \n",
       "3        1.350297  2006.0  2007.0  2008.0  2009.0  2010.0  \n",
       "\n",
       "[4 rows x 288 columns]"
      ]
     },
     "execution_count": 123,
     "metadata": {},
     "output_type": "execute_result"
    }
   ],
   "source": [
    "X_train_clusters_df.groupby('cluster')"
   ]
  }
 ],
 "metadata": {
  "kernelspec": {
   "display_name": "Python 3",
   "language": "python",
   "name": "python3"
  },
  "language_info": {
   "codemirror_mode": {
    "name": "ipython",
    "version": 3
   },
   "file_extension": ".py",
   "mimetype": "text/x-python",
   "name": "python",
   "nbconvert_exporter": "python",
   "pygments_lexer": "ipython3",
   "version": "3.5.4"
  }
 },
 "nbformat": 4,
 "nbformat_minor": 4
}
