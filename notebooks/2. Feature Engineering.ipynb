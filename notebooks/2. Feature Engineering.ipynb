{
 "cells": [
  {
   "cell_type": "markdown",
   "metadata": {},
   "source": [
    "# 2. Feature Engineering\n",
    "\n",
    "Second attempt at building a model to predict house prices. "
   ]
  },
  {
   "cell_type": "code",
   "execution_count": 30,
   "metadata": {},
   "outputs": [
    {
     "data": {
      "text/html": [
       "<div>\n",
       "<style scoped>\n",
       "    .dataframe tbody tr th:only-of-type {\n",
       "        vertical-align: middle;\n",
       "    }\n",
       "\n",
       "    .dataframe tbody tr th {\n",
       "        vertical-align: top;\n",
       "    }\n",
       "\n",
       "    .dataframe thead th {\n",
       "        text-align: right;\n",
       "    }\n",
       "</style>\n",
       "<table border=\"1\" class=\"dataframe\">\n",
       "  <thead>\n",
       "    <tr style=\"text-align: right;\">\n",
       "      <th></th>\n",
       "      <th>MSSubClass</th>\n",
       "      <th>MSZoning</th>\n",
       "      <th>LotFrontage</th>\n",
       "      <th>LotArea</th>\n",
       "      <th>Street</th>\n",
       "      <th>Alley</th>\n",
       "      <th>LotShape</th>\n",
       "      <th>LandContour</th>\n",
       "      <th>Utilities</th>\n",
       "      <th>LotConfig</th>\n",
       "      <th>...</th>\n",
       "      <th>PoolArea</th>\n",
       "      <th>PoolQC</th>\n",
       "      <th>Fence</th>\n",
       "      <th>MiscFeature</th>\n",
       "      <th>MiscVal</th>\n",
       "      <th>MoSold</th>\n",
       "      <th>YrSold</th>\n",
       "      <th>SaleType</th>\n",
       "      <th>SaleCondition</th>\n",
       "      <th>SalePrice</th>\n",
       "    </tr>\n",
       "  </thead>\n",
       "  <tbody>\n",
       "    <tr>\n",
       "      <th>0</th>\n",
       "      <td>60</td>\n",
       "      <td>RL</td>\n",
       "      <td>65.0</td>\n",
       "      <td>8450</td>\n",
       "      <td>Pave</td>\n",
       "      <td>NaN</td>\n",
       "      <td>Reg</td>\n",
       "      <td>Lvl</td>\n",
       "      <td>AllPub</td>\n",
       "      <td>Inside</td>\n",
       "      <td>...</td>\n",
       "      <td>0</td>\n",
       "      <td>NaN</td>\n",
       "      <td>NaN</td>\n",
       "      <td>NaN</td>\n",
       "      <td>0</td>\n",
       "      <td>2</td>\n",
       "      <td>2008</td>\n",
       "      <td>WD</td>\n",
       "      <td>Normal</td>\n",
       "      <td>208500</td>\n",
       "    </tr>\n",
       "    <tr>\n",
       "      <th>1</th>\n",
       "      <td>20</td>\n",
       "      <td>RL</td>\n",
       "      <td>80.0</td>\n",
       "      <td>9600</td>\n",
       "      <td>Pave</td>\n",
       "      <td>NaN</td>\n",
       "      <td>Reg</td>\n",
       "      <td>Lvl</td>\n",
       "      <td>AllPub</td>\n",
       "      <td>FR2</td>\n",
       "      <td>...</td>\n",
       "      <td>0</td>\n",
       "      <td>NaN</td>\n",
       "      <td>NaN</td>\n",
       "      <td>NaN</td>\n",
       "      <td>0</td>\n",
       "      <td>5</td>\n",
       "      <td>2007</td>\n",
       "      <td>WD</td>\n",
       "      <td>Normal</td>\n",
       "      <td>181500</td>\n",
       "    </tr>\n",
       "    <tr>\n",
       "      <th>2</th>\n",
       "      <td>60</td>\n",
       "      <td>RL</td>\n",
       "      <td>68.0</td>\n",
       "      <td>11250</td>\n",
       "      <td>Pave</td>\n",
       "      <td>NaN</td>\n",
       "      <td>IR1</td>\n",
       "      <td>Lvl</td>\n",
       "      <td>AllPub</td>\n",
       "      <td>Inside</td>\n",
       "      <td>...</td>\n",
       "      <td>0</td>\n",
       "      <td>NaN</td>\n",
       "      <td>NaN</td>\n",
       "      <td>NaN</td>\n",
       "      <td>0</td>\n",
       "      <td>9</td>\n",
       "      <td>2008</td>\n",
       "      <td>WD</td>\n",
       "      <td>Normal</td>\n",
       "      <td>223500</td>\n",
       "    </tr>\n",
       "    <tr>\n",
       "      <th>3</th>\n",
       "      <td>70</td>\n",
       "      <td>RL</td>\n",
       "      <td>60.0</td>\n",
       "      <td>9550</td>\n",
       "      <td>Pave</td>\n",
       "      <td>NaN</td>\n",
       "      <td>IR1</td>\n",
       "      <td>Lvl</td>\n",
       "      <td>AllPub</td>\n",
       "      <td>Corner</td>\n",
       "      <td>...</td>\n",
       "      <td>0</td>\n",
       "      <td>NaN</td>\n",
       "      <td>NaN</td>\n",
       "      <td>NaN</td>\n",
       "      <td>0</td>\n",
       "      <td>2</td>\n",
       "      <td>2006</td>\n",
       "      <td>WD</td>\n",
       "      <td>Abnorml</td>\n",
       "      <td>140000</td>\n",
       "    </tr>\n",
       "    <tr>\n",
       "      <th>4</th>\n",
       "      <td>60</td>\n",
       "      <td>RL</td>\n",
       "      <td>84.0</td>\n",
       "      <td>14260</td>\n",
       "      <td>Pave</td>\n",
       "      <td>NaN</td>\n",
       "      <td>IR1</td>\n",
       "      <td>Lvl</td>\n",
       "      <td>AllPub</td>\n",
       "      <td>FR2</td>\n",
       "      <td>...</td>\n",
       "      <td>0</td>\n",
       "      <td>NaN</td>\n",
       "      <td>NaN</td>\n",
       "      <td>NaN</td>\n",
       "      <td>0</td>\n",
       "      <td>12</td>\n",
       "      <td>2008</td>\n",
       "      <td>WD</td>\n",
       "      <td>Normal</td>\n",
       "      <td>250000</td>\n",
       "    </tr>\n",
       "  </tbody>\n",
       "</table>\n",
       "<p>5 rows × 80 columns</p>\n",
       "</div>"
      ],
      "text/plain": [
       "   MSSubClass MSZoning  LotFrontage  LotArea Street Alley LotShape  \\\n",
       "0          60       RL         65.0     8450   Pave   NaN      Reg   \n",
       "1          20       RL         80.0     9600   Pave   NaN      Reg   \n",
       "2          60       RL         68.0    11250   Pave   NaN      IR1   \n",
       "3          70       RL         60.0     9550   Pave   NaN      IR1   \n",
       "4          60       RL         84.0    14260   Pave   NaN      IR1   \n",
       "\n",
       "  LandContour Utilities LotConfig  ... PoolArea PoolQC Fence MiscFeature  \\\n",
       "0         Lvl    AllPub    Inside  ...        0    NaN   NaN         NaN   \n",
       "1         Lvl    AllPub       FR2  ...        0    NaN   NaN         NaN   \n",
       "2         Lvl    AllPub    Inside  ...        0    NaN   NaN         NaN   \n",
       "3         Lvl    AllPub    Corner  ...        0    NaN   NaN         NaN   \n",
       "4         Lvl    AllPub       FR2  ...        0    NaN   NaN         NaN   \n",
       "\n",
       "  MiscVal MoSold  YrSold  SaleType  SaleCondition  SalePrice  \n",
       "0       0      2    2008        WD         Normal     208500  \n",
       "1       0      5    2007        WD         Normal     181500  \n",
       "2       0      9    2008        WD         Normal     223500  \n",
       "3       0      2    2006        WD        Abnorml     140000  \n",
       "4       0     12    2008        WD         Normal     250000  \n",
       "\n",
       "[5 rows x 80 columns]"
      ]
     },
     "execution_count": 30,
     "metadata": {},
     "output_type": "execute_result"
    }
   ],
   "source": [
    "import os\n",
    "import platform\n",
    "import pandas as pd\n",
    "import numpy as np\n",
    "import matplotlib\n",
    "import seaborn as sns\n",
    "import matplotlib.pyplot as plt\n",
    "\n",
    "# Check which platform is running the notebook\n",
    "if platform.system() == 'Windows':\n",
    "    PROJECT_PATH = \"\\\\\".join(os.getcwd().split('\\\\')[:-1])\n",
    "else:\n",
    "    # Assuming a Unix based platform\n",
    "    PROJECT_PATH = \"/\".join(os.getcwd().split('/')[:-1])\n",
    "\n",
    "DATA_PATH = os.path.join(PROJECT_PATH, 'data')\n",
    "TRAIN_DATA_PATH = os.path.join(DATA_PATH, 'train.csv')\n",
    "\n",
    "# Load the training dataset\n",
    "house_prices_train = pd.read_csv(TRAIN_DATA_PATH)\n",
    "house_prices_train = house_prices_train.drop('Id', axis=1)\n",
    "house_prices_train.head()"
   ]
  },
  {
   "cell_type": "markdown",
   "metadata": {},
   "source": [
    "## Split into training and testing set"
   ]
  },
  {
   "cell_type": "code",
   "execution_count": 31,
   "metadata": {},
   "outputs": [],
   "source": [
    "from sklearn.model_selection import train_test_split\n",
    "\n",
    "RANDOM_STATE = 42\n",
    "test_size = 0.3\n",
    "target_feature = 'SalePrice'\n",
    "\n",
    "X = house_prices_train.drop(target_feature, axis=1)\n",
    "y = house_prices_train[target_feature]\n",
    "\n",
    "X_train, X_test, y_train, y_test = train_test_split(X, y, random_state=RANDOM_STATE, test_size=test_size)"
   ]
  },
  {
   "cell_type": "code",
   "execution_count": 32,
   "metadata": {},
   "outputs": [
    {
     "name": "stdout",
     "output_type": "stream",
     "text": [
      "Alley         93.542%\n",
      "PoolQC        99.511%\n",
      "Fence         80.235%\n",
      "MiscFeature   96.086%\n"
     ]
    }
   ],
   "source": [
    "def remove_missing_features(X, threshold=0.8, verbose=False):\n",
    "    features = X.columns\n",
    "    features_to_remove = []\n",
    "    dataset_size = X.shape[0]\n",
    "    for f in features:\n",
    "        missing_count = X[X[f].isna()].shape[0]\n",
    "        missing_ratio = missing_count / dataset_size\n",
    "        if missing_ratio > threshold:\n",
    "            features_to_remove.append(f) \n",
    "            if verbose:\n",
    "                print(\"{:14}{:.3f}%\".format(f, missing_ratio * 100))\n",
    "    return X.drop(features_to_remove, axis=1)\n",
    "\n",
    "X_train_df = remove_missing_features(X_train, threshold=0.5, verbose=True)"
   ]
  },
  {
   "cell_type": "markdown",
   "metadata": {},
   "source": [
    "## Remove Features with a single value and highly correlated features"
   ]
  },
  {
   "cell_type": "code",
   "execution_count": 33,
   "metadata": {},
   "outputs": [],
   "source": [
    "def remove_single_values(X, verbose=False):\n",
    "    features = X.columns\n",
    "    features_to_remove = []\n",
    "    for f in features:\n",
    "        value_count = X[f].nunique()\n",
    "        if value_count == 1:\n",
    "            features_to_remove.append(f)\n",
    "            if verbose:\n",
    "                print('Removing ', f)\n",
    "    return X.drop(features_to_remove, axis=1)\n",
    "\n",
    "def remove_highly_correlate_features(X, threshold=0.9):\n",
    "    corr = X.corr().abs()\n",
    "    \n",
    "    # Select upper triangle of correlation matrix\n",
    "    upper = corr.where(np.triu(np.ones(corr.shape), k=1).astype(np.bool))\n",
    "    to_remove = [column for column in upper.columns if any(upper[column] > threshold)]\n",
    "    return X.drop(to_remove, axis=1)\n",
    "\n",
    "X_train_df = remove_single_values(X_train_df)\n",
    "X_train_df = remove_highly_correlate_features(X_train_df)"
   ]
  },
  {
   "cell_type": "markdown",
   "metadata": {},
   "source": [
    "## Remove target feature outliers"
   ]
  },
  {
   "cell_type": "code",
   "execution_count": 34,
   "metadata": {},
   "outputs": [
    {
     "data": {
      "text/plain": [
       "342500.0"
      ]
     },
     "execution_count": 34,
     "metadata": {},
     "output_type": "execute_result"
    }
   ],
   "source": [
    "quantiles = y_train.quantile([0.25, 0.75]).values\n",
    "\n",
    "# Q1 at index 0 and Q3 at index 1\n",
    "iqr = quantiles[1] - quantiles[0]\n",
    "outlier_threshold = quantiles[1] + (1.5 * iqr)\n",
    "outlier_threshold"
   ]
  },
  {
   "cell_type": "code",
   "execution_count": 35,
   "metadata": {},
   "outputs": [],
   "source": [
    "feature_inliers_indices = np.where(y_train < outlier_threshold)[0]\n",
    "\n",
    "# Extract the inliers from the dataset\n",
    "X_train_df = X_train_df.iloc[feature_inliers_indices]\n",
    "y_train = y_train.iloc[feature_inliers_indices]\n",
    "\n",
    "# Validate they are the same size \n",
    "assert X_train_df.shape[0] == y_train.shape[0]"
   ]
  },
  {
   "cell_type": "markdown",
   "metadata": {},
   "source": [
    "## Feature Engineering\n",
    "\n",
    "\n",
    "### Numeric Features"
   ]
  },
  {
   "cell_type": "code",
   "execution_count": 36,
   "metadata": {},
   "outputs": [
    {
     "data": {
      "text/plain": [
       "(981, 75)"
      ]
     },
     "execution_count": 36,
     "metadata": {},
     "output_type": "execute_result"
    }
   ],
   "source": [
    "X_train_df.shape"
   ]
  },
  {
   "cell_type": "code",
   "execution_count": 37,
   "metadata": {},
   "outputs": [
    {
     "data": {
      "text/plain": [
       "(981, 36)"
      ]
     },
     "execution_count": 37,
     "metadata": {},
     "output_type": "execute_result"
    }
   ],
   "source": [
    "numeric_features = X_train_df.select_dtypes(['int64', 'float64'])\n",
    "numeric_features.shape"
   ]
  },
  {
   "cell_type": "code",
   "execution_count": 38,
   "metadata": {},
   "outputs": [
    {
     "data": {
      "text/plain": [
       "Index(['MSSubClass', 'LotFrontage', 'LotArea', 'OverallQual', 'OverallCond',\n",
       "       'YearBuilt', 'YearRemodAdd', 'MasVnrArea', 'BsmtFinSF1', 'BsmtFinSF2',\n",
       "       'BsmtUnfSF', 'TotalBsmtSF', '1stFlrSF', '2ndFlrSF', 'LowQualFinSF',\n",
       "       'GrLivArea', 'BsmtFullBath', 'BsmtHalfBath', 'FullBath', 'HalfBath',\n",
       "       'BedroomAbvGr', 'KitchenAbvGr', 'TotRmsAbvGrd', 'Fireplaces',\n",
       "       'GarageYrBlt', 'GarageCars', 'GarageArea', 'WoodDeckSF', 'OpenPorchSF',\n",
       "       'EnclosedPorch', '3SsnPorch', 'ScreenPorch', 'PoolArea', 'MiscVal',\n",
       "       'MoSold', 'YrSold'],\n",
       "      dtype='object')"
      ]
     },
     "execution_count": 38,
     "metadata": {},
     "output_type": "execute_result"
    }
   ],
   "source": [
    "numeric_features.columns"
   ]
  },
  {
   "cell_type": "code",
   "execution_count": 39,
   "metadata": {},
   "outputs": [],
   "source": [
    "numeric_cols = numeric_features.columns.tolist()"
   ]
  },
  {
   "cell_type": "markdown",
   "metadata": {},
   "source": [
    "Creating new features:"
   ]
  },
  {
   "cell_type": "code",
   "execution_count": 40,
   "metadata": {},
   "outputs": [],
   "source": [
    "overall_score = (numeric_features.OverallQual + numeric_features.OverallCond) / 2"
   ]
  },
  {
   "cell_type": "code",
   "execution_count": 41,
   "metadata": {},
   "outputs": [],
   "source": [
    "upper_total_ft = numeric_features['1stFlrSF'] + numeric_features['2ndFlrSF']"
   ]
  },
  {
   "cell_type": "code",
   "execution_count": 42,
   "metadata": {},
   "outputs": [],
   "source": [
    "future_garage = (numeric_features.GarageYrBlt == numeric_features.YearBuilt).astype(int)"
   ]
  },
  {
   "cell_type": "code",
   "execution_count": 43,
   "metadata": {},
   "outputs": [
    {
     "data": {
      "text/plain": [
       "1    734\n",
       "0    247\n",
       "Name: YearBuilt, dtype: int64"
      ]
     },
     "execution_count": 43,
     "metadata": {},
     "output_type": "execute_result"
    }
   ],
   "source": [
    "build_in_20_centry = (numeric_features.YearBuilt < 2000).astype(int)\n",
    "build_in_20_centry.value_counts()"
   ]
  },
  {
   "cell_type": "code",
   "execution_count": 44,
   "metadata": {},
   "outputs": [
    {
     "data": {
      "text/plain": [
       "0    516\n",
       "1    465\n",
       "dtype: int64"
      ]
     },
     "execution_count": 44,
     "metadata": {},
     "output_type": "execute_result"
    }
   ],
   "source": [
    "had_changes = (numeric_features.YearBuilt != numeric_features.YearRemodAdd).astype(int)\n",
    "had_changes.value_counts()"
   ]
  },
  {
   "cell_type": "markdown",
   "metadata": {},
   "source": [
    "### Categorical Features"
   ]
  },
  {
   "cell_type": "code",
   "execution_count": 45,
   "metadata": {},
   "outputs": [
    {
     "data": {
      "text/plain": [
       "(981, 39)"
      ]
     },
     "execution_count": 45,
     "metadata": {},
     "output_type": "execute_result"
    }
   ],
   "source": [
    "categorical_features = X_train_df.select_dtypes(['object'])\n",
    "categorical_features.shape"
   ]
  },
  {
   "cell_type": "code",
   "execution_count": 46,
   "metadata": {},
   "outputs": [
    {
     "data": {
      "text/plain": [
       "Index(['MSZoning', 'Street', 'LotShape', 'LandContour', 'Utilities',\n",
       "       'LotConfig', 'LandSlope', 'Neighborhood', 'Condition1', 'Condition2',\n",
       "       'BldgType', 'HouseStyle', 'RoofStyle', 'RoofMatl', 'Exterior1st',\n",
       "       'Exterior2nd', 'MasVnrType', 'ExterQual', 'ExterCond', 'Foundation',\n",
       "       'BsmtQual', 'BsmtCond', 'BsmtExposure', 'BsmtFinType1', 'BsmtFinType2',\n",
       "       'Heating', 'HeatingQC', 'CentralAir', 'Electrical', 'KitchenQual',\n",
       "       'Functional', 'FireplaceQu', 'GarageType', 'GarageFinish', 'GarageQual',\n",
       "       'GarageCond', 'PavedDrive', 'SaleType', 'SaleCondition'],\n",
       "      dtype='object')"
      ]
     },
     "execution_count": 46,
     "metadata": {},
     "output_type": "execute_result"
    }
   ],
   "source": [
    "categorical_cols = categorical_features.columns\n",
    "categorical_cols"
   ]
  },
  {
   "cell_type": "markdown",
   "metadata": {},
   "source": [
    "Get the ordinal features"
   ]
  },
  {
   "cell_type": "code",
   "execution_count": 47,
   "metadata": {},
   "outputs": [],
   "source": [
    "# Define the ordinal features\n",
    "ordinal_cols = [\n",
    "    'LotShape',\n",
    "    'ExterQual',\n",
    "    'ExterCond',\n",
    "    'BsmtQual',\n",
    "    'BsmtCond',\n",
    "    'BsmtExposure',\n",
    "    'BsmtFinType1',\n",
    "    'BsmtFinType2',\n",
    "    'HeatingQC',\n",
    "    'KitchenQual',\n",
    "    'FireplaceQu',\n",
    "    'GarageQual',\n",
    "    'GarageCond',\n",
    "]\n",
    "\n",
    "# Extract the categorical features from the ordinal features\n",
    "categorical_cols = categorical_cols[~categorical_cols.isin(ordinal_cols)]"
   ]
  },
  {
   "cell_type": "markdown",
   "metadata": {},
   "source": [
    "## Processing the data"
   ]
  },
  {
   "cell_type": "code",
   "execution_count": 48,
   "metadata": {},
   "outputs": [],
   "source": [
    "from sklearn.model_selection import cross_val_score\n",
    "\n",
    "def cross_val_regression(clf, X, y, cv=3):\n",
    "    neg_mse_scores = cross_val_score(clf, X, y, scoring='neg_mean_squared_error', cv=cv)\n",
    "    neg_log_scores = cross_val_score(clf, X, y, scoring='neg_mean_squared_log_error', cv=cv)\n",
    "    return {\n",
    "        'rmse': (np.sqrt(-neg_mse_scores)).mean(),\n",
    "        'rmlse': (np.sqrt(-neg_log_scores)).mean()\n",
    "    }"
   ]
  },
  {
   "cell_type": "code",
   "execution_count": 49,
   "metadata": {},
   "outputs": [],
   "source": [
    "from sklearn.base import TransformerMixin\n",
    "\n",
    "class CreateNumericFeatures(TransformerMixin):\n",
    "    def fit(self, X, y=None):\n",
    "        return self\n",
    "    \n",
    "    def transform(self, X):\n",
    "        overall_score = (numeric_features['OverallQual'] + numeric_features['OverallCond']) / 2\n",
    "        upper_total_ft = numeric_features['1stFlrSF'] + numeric_features['2ndFlrSF']\n",
    "        future_garage = (numeric_features['GarageYrBlt'] == numeric_features['YearBuilt']).astype(int)\n",
    "        build_in_20_centry = (numeric_features['YearBuilt'] < 2000).astype(int)\n",
    "        had_changes_made = (numeric_features['YearBuilt'] != numeric_features['YearRemodAdd']).astype(int)\n",
    "        X.drop(['OverallQual', 'OverallCond', '1stFlrSF', '2ndFlrSF', 'GarageYrBlt', 'YearBuilt', 'YearRemodAdd'], axis=1)\n",
    "        X['OverallScore'] = overall_score\n",
    "        X['UpperFlrSF'] = upper_total_ft\n",
    "        X['GarageLater'] = future_garage\n",
    "        X['BuildIn20Centuary'] = build_in_20_centry\n",
    "        X['Remodelled'] = had_changes_made\n",
    "        return X\n",
    "    \n",
    "\n",
    "class CombineGarageFeatures(TransformerMixin):\n",
    "    def __init__(self):\n",
    "        self.ratings = {\n",
    "            'Ex': 5,\n",
    "            'Gd': 4,\n",
    "            'TA': 3,\n",
    "            'Fa': 2,\n",
    "            'Po': 1,\n",
    "            'NA': 0\n",
    "        }\n",
    "    \n",
    "    def fit(self, X, y=None):\n",
    "        return self\n",
    "    \n",
    "    def transform(self, X):\n",
    "        convert_rating = lambda x : self.ratings.get(x, 0) \n",
    "        garage_qual = X['GarageQual'].apply(convert_rating)\n",
    "        gargage_condition = X['GarageQual'].apply(convert_rating)\n",
    "        garage_rating = (garage_qual + gargage_condition) / 2\n",
    "        X['GarageRating'] = garage_rating\n",
    "        X.drop(['GarageQual', 'GarageQual'], axis=1)\n",
    "        return X\n",
    "    \n",
    "    \n",
    "class ExteriorCondition(TransformerMixin):\n",
    "    def __init__(self):\n",
    "        self.ratings = {\n",
    "            'Ex': 5,\n",
    "            'Gd': 4,\n",
    "            'TA': 3,\n",
    "            'Fa': 2,\n",
    "            'Po': 1\n",
    "        }\n",
    "        \n",
    "    def fit(self, X, y=None):\n",
    "        return self\n",
    "    \n",
    "    def transform(self, X):\n",
    "        convert_rating = lambda x : self.ratings.get(x, 0) \n",
    "        exterior_qual = X['ExterQual'].apply(convert_rating)\n",
    "        exterior_condition = X['ExterCond'].apply(convert_rating)\n",
    "        exterior_rating = (exterior_qual + exterior_condition) / 2\n",
    "        X['ExterRating'] = exterior_rating\n",
    "        X.drop(['ExterQual', 'ExterCond'], axis=1)\n",
    "        return X"
   ]
  },
  {
   "cell_type": "code",
   "execution_count": 50,
   "metadata": {},
   "outputs": [],
   "source": [
    "numeric_cols = [\n",
    "     'MSSubClass',\n",
    "     'LotFrontage',\n",
    "     'LotArea',\n",
    "     'MasVnrArea',\n",
    "     'BsmtFinSF1',\n",
    "     'BsmtFinSF2',\n",
    "     'BsmtUnfSF',\n",
    "     'TotalBsmtSF',\n",
    "     'LowQualFinSF',\n",
    "     'GrLivArea',\n",
    "     'BsmtFullBath',\n",
    "     'BsmtHalfBath',\n",
    "     'FullBath',\n",
    "     'HalfBath',\n",
    "     'BedroomAbvGr',\n",
    "     'KitchenAbvGr',\n",
    "     'TotRmsAbvGrd',\n",
    "     'Fireplaces',\n",
    "     'GarageCars',\n",
    "     'GarageArea',\n",
    "     'WoodDeckSF',\n",
    "     'OpenPorchSF',\n",
    "     'EnclosedPorch',\n",
    "     '3SsnPorch',\n",
    "     'ScreenPorch',\n",
    "     'PoolArea',\n",
    "     'MiscVal',\n",
    "     'MoSold',\n",
    "     'YrSold',\n",
    "     'OverallScore',\n",
    "     'UpperFlrSF',\n",
    "     'GarageRating',\n",
    "     'ExterRating',\n",
    "     'BuildIn20Centuary',\n",
    "     'Remodelled'\n",
    "]\n",
    "\n",
    "categorical_features = [\n",
    "    'LotShape',\n",
    "    'BsmtQual',\n",
    "    'BsmtCond',\n",
    "    'BsmtExposure',\n",
    "    'BsmtFinType1',\n",
    "    'BsmtFinType2',\n",
    "    'HeatingQC',\n",
    "    'KitchenQual',\n",
    "    'FireplaceQu'\n",
    "]"
   ]
  },
  {
   "cell_type": "code",
   "execution_count": 51,
   "metadata": {},
   "outputs": [],
   "source": [
    "from sklearn.impute import SimpleImputer\n",
    "from sklearn.preprocessing import OrdinalEncoder, FunctionTransformer, OneHotEncoder\n",
    "from sklearn.compose import ColumnTransformer\n",
    "from sklearn.pipeline import Pipeline\n",
    "\n",
    "\n",
    "numeric_pipeline = Pipeline([\n",
    "    ('impute', SimpleImputer(strategy='median')),\n",
    "    ('log', FunctionTransformer(np.log1p))\n",
    "])\n",
    "\n",
    "ordinal_pipeline = Pipeline([\n",
    "    ('impute', SimpleImputer(strategy='most_frequent')),\n",
    "    ('ordinal', OrdinalEncoder())\n",
    "])\n",
    "\n",
    "categorical_pipeline = Pipeline([\n",
    "    ('impute', SimpleImputer(strategy='most_frequent')),\n",
    "    ('one_hot', OneHotEncoder(handle_unknown='ignore', sparse=False))\n",
    "])\n",
    "\n",
    "\n",
    "processing_pipeline = Pipeline([\n",
    "    ('numeric_features', CreateNumericFeatures()),\n",
    "    ('garage', CombineGarageFeatures()),\n",
    "    ('extorior', ExteriorCondition()),\n",
    "    ('processing', ColumnTransformer([\n",
    "        ('numeric', numeric_pipeline, numeric_cols),\n",
    "        ('ordinal', ordinal_pipeline, ordinal_cols),\n",
    "        ('categorical', categorical_pipeline, categorical_cols.tolist())\n",
    "    ]))\n",
    "])"
   ]
  },
  {
   "cell_type": "code",
   "execution_count": 52,
   "metadata": {},
   "outputs": [],
   "source": [
    "from sklearn.metrics import mean_squared_error, mean_squared_log_error\n",
    "\n",
    "def root_mean_squared_error(y_true, y_pred):\n",
    "    return np.sqrt(mean_squared_error(y_true, y_pred))\n",
    "\n",
    "def root_mean_log_error(y_true, y_pred):\n",
    "    try:\n",
    "        return np.sqrt(mean_squared_log_error(y_true, y_pred))\n",
    "    except ValueError:\n",
    "        return -1000"
   ]
  },
  {
   "cell_type": "markdown",
   "metadata": {},
   "source": [
    "## Creating a baseline before Feature Engineering"
   ]
  },
  {
   "cell_type": "code",
   "execution_count": 53,
   "metadata": {},
   "outputs": [],
   "source": [
    "X_train_processed = processing_pipeline.fit_transform(X_train_df)"
   ]
  },
  {
   "cell_type": "code",
   "execution_count": 54,
   "metadata": {},
   "outputs": [
    {
     "data": {
      "text/plain": [
       "(981, 221)"
      ]
     },
     "execution_count": 54,
     "metadata": {},
     "output_type": "execute_result"
    }
   ],
   "source": [
    "X_train_processed.shape"
   ]
  },
  {
   "cell_type": "code",
   "execution_count": 55,
   "metadata": {},
   "outputs": [],
   "source": [
    "from sklearn.ensemble import RandomForestRegressor\n",
    "\n",
    "rand_forest_baseline = RandomForestRegressor(random_state=RANDOM_STATE)\n",
    "scores = cross_val_regression(rand_forest_baseline, X_train_processed, y_train)"
   ]
  },
  {
   "cell_type": "code",
   "execution_count": 56,
   "metadata": {},
   "outputs": [
    {
     "name": "stdout",
     "output_type": "stream",
     "text": [
      "Baseline Random Forest RMLSE: 0.145\n",
      "Baseline Random Forest RMSE: 22901.261\n"
     ]
    }
   ],
   "source": [
    "print('Baseline Random Forest RMLSE: {:.3f}'.format(scores['rmlse']))\n",
    "print('Baseline Random Forest RMSE: {:.3f}'.format(scores['rmse']))"
   ]
  },
  {
   "cell_type": "markdown",
   "metadata": {},
   "source": [
    "From applying some feature generation and seperating the categorical and ordinal data, we can see a improvement compared to the best baseline model from the previous notebook\n",
    "\n",
    "### Feature Importance"
   ]
  },
  {
   "cell_type": "code",
   "execution_count": 57,
   "metadata": {},
   "outputs": [
    {
     "data": {
      "text/plain": [
       "RandomForestRegressor(bootstrap=True, ccp_alpha=0.0, criterion='mse',\n",
       "                      max_depth=None, max_features='auto', max_leaf_nodes=None,\n",
       "                      max_samples=None, min_impurity_decrease=0.0,\n",
       "                      min_impurity_split=None, min_samples_leaf=1,\n",
       "                      min_samples_split=2, min_weight_fraction_leaf=0.0,\n",
       "                      n_estimators=100, n_jobs=None, oob_score=False,\n",
       "                      random_state=42, verbose=0, warm_start=False)"
      ]
     },
     "execution_count": 57,
     "metadata": {},
     "output_type": "execute_result"
    }
   ],
   "source": [
    "rand_forest_baseline.fit(X_train_processed, y_train)"
   ]
  },
  {
   "cell_type": "code",
   "execution_count": 76,
   "metadata": {},
   "outputs": [
    {
     "data": {
      "text/plain": [
       "(221,)"
      ]
     },
     "execution_count": 76,
     "metadata": {},
     "output_type": "execute_result"
    }
   ],
   "source": [
    "categorical_one_hot_features = processing_pipeline['processing'].transformers_[2][1]['one_hot'].categories_\n",
    "categorical_one_hot_features = np.concatenate(categorical_one_hot_features)\n",
    "categorical_one_hot_features\n",
    "\n",
    "baseline_features = np.asarray(numeric_cols + ordinal_cols)\n",
    "baseline_features = np.concatenate([baseline_features, categorical_one_hot_features])\n",
    "baseline_features.shape"
   ]
  },
  {
   "cell_type": "code",
   "execution_count": 95,
   "metadata": {},
   "outputs": [
    {
     "data": {
      "image/png": "[encoded data removed]",
      "text/plain": [
       "<Figure size 1080x1440 with 1 Axes>"
      ]
     },
     "metadata": {
      "needs_background": "light"
     },
     "output_type": "display_data"
    }
   ],
   "source": [
    "baseline_features_importance = rand_forest_baseline.feature_importances_\n",
    "top_100_features_indices = np.argsort(baseline_features_importance)[::-1][:100]\n",
    "\n",
    "plt.figure(figsize=(15, 20))\n",
    "sns.barplot(baseline_features_importance[top_100_features_indices], baseline_features[top_100_features_indices])\n",
    "plt.xlabel('Importance')\n",
    "plt.ylabel('Feature')\n",
    "plt.title('Feature Importance for top 100 features for baseline random forest model')\n",
    "plt.show()"
   ]
  },
  {
   "cell_type": "markdown",
   "metadata": {},
   "source": [
    "Create a new random forest model based on the top 20 features"
   ]
  },
  {
   "cell_type": "code",
   "execution_count": 99,
   "metadata": {},
   "outputs": [
    {
     "data": {
      "text/plain": [
       "(981, 20)"
      ]
     },
     "execution_count": 99,
     "metadata": {},
     "output_type": "execute_result"
    }
   ],
   "source": [
    "top_20_feature_indices = top_100_features_indices[:20]\n",
    "\n",
    "X_train_top_20_features = X_train_processed[:, top_20_feature_indices]\n",
    "X_train_top_20_features.shape"
   ]
  },
  {
   "cell_type": "code",
   "execution_count": 100,
   "metadata": {},
   "outputs": [
    {
     "name": "stdout",
     "output_type": "stream",
     "text": [
      "Random Forest Top 20 Features RMLSE: 0.147\n",
      "Random Forest Top 20 Features RMSE: 22991.819\n"
     ]
    }
   ],
   "source": [
    "rand_forest_top_20_features = RandomForestRegressor(random_state=RANDOM_STATE)\n",
    "scores = cross_val_regression(rand_forest_top_20_features, X_train_top_20_features, y_train)\n",
    "\n",
    "print('Random Forest Top 20 Features RMLSE: {:.3f}'.format(scores['rmlse']))\n",
    "print('Random Forest Top 20 Features RMSE: {:.3f}'.format(scores['rmse']))"
   ]
  },
  {
   "cell_type": "markdown",
   "metadata": {},
   "source": [
    "Results are more or less the same as the previous baseline, so we are seeing a significant improvement already compared to the original baseline."
   ]
  }
 ],
 "metadata": {
  "kernelspec": {
   "display_name": "Python 3",
   "language": "python",
   "name": "python3"
  },
  "language_info": {
   "codemirror_mode": {
    "name": "ipython",
    "version": 3
   },
   "file_extension": ".py",
   "mimetype": "text/x-python",
   "name": "python",
   "nbconvert_exporter": "python",
   "pygments_lexer": "ipython3",
   "version": "3.5.4"
  }
 },
 "nbformat": 4,
 "nbformat_minor": 4
}
