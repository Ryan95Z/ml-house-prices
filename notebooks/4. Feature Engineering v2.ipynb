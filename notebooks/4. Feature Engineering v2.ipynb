{
 "cells": [
  {
   "cell_type": "code",
   "execution_count": 1,
   "metadata": {},
   "outputs": [
    {
     "data": {
      "text/html": [
       "<div>\n",
       "<style scoped>\n",
       "    .dataframe tbody tr th:only-of-type {\n",
       "        vertical-align: middle;\n",
       "    }\n",
       "\n",
       "    .dataframe tbody tr th {\n",
       "        vertical-align: top;\n",
       "    }\n",
       "\n",
       "    .dataframe thead th {\n",
       "        text-align: right;\n",
       "    }\n",
       "</style>\n",
       "<table border=\"1\" class=\"dataframe\">\n",
       "  <thead>\n",
       "    <tr style=\"text-align: right;\">\n",
       "      <th></th>\n",
       "      <th>Id</th>\n",
       "      <th>MSSubClass</th>\n",
       "      <th>MSZoning</th>\n",
       "      <th>LotFrontage</th>\n",
       "      <th>LotArea</th>\n",
       "      <th>Street</th>\n",
       "      <th>Alley</th>\n",
       "      <th>LotShape</th>\n",
       "      <th>LandContour</th>\n",
       "      <th>Utilities</th>\n",
       "      <th>...</th>\n",
       "      <th>PoolArea</th>\n",
       "      <th>PoolQC</th>\n",
       "      <th>Fence</th>\n",
       "      <th>MiscFeature</th>\n",
       "      <th>MiscVal</th>\n",
       "      <th>MoSold</th>\n",
       "      <th>YrSold</th>\n",
       "      <th>SaleType</th>\n",
       "      <th>SaleCondition</th>\n",
       "      <th>SalePrice</th>\n",
       "    </tr>\n",
       "  </thead>\n",
       "  <tbody>\n",
       "    <tr>\n",
       "      <th>0</th>\n",
       "      <td>1</td>\n",
       "      <td>60</td>\n",
       "      <td>RL</td>\n",
       "      <td>65.0</td>\n",
       "      <td>8450</td>\n",
       "      <td>Pave</td>\n",
       "      <td>NaN</td>\n",
       "      <td>Reg</td>\n",
       "      <td>Lvl</td>\n",
       "      <td>AllPub</td>\n",
       "      <td>...</td>\n",
       "      <td>0</td>\n",
       "      <td>NaN</td>\n",
       "      <td>NaN</td>\n",
       "      <td>NaN</td>\n",
       "      <td>0</td>\n",
       "      <td>2</td>\n",
       "      <td>2008</td>\n",
       "      <td>WD</td>\n",
       "      <td>Normal</td>\n",
       "      <td>208500</td>\n",
       "    </tr>\n",
       "    <tr>\n",
       "      <th>1</th>\n",
       "      <td>2</td>\n",
       "      <td>20</td>\n",
       "      <td>RL</td>\n",
       "      <td>80.0</td>\n",
       "      <td>9600</td>\n",
       "      <td>Pave</td>\n",
       "      <td>NaN</td>\n",
       "      <td>Reg</td>\n",
       "      <td>Lvl</td>\n",
       "      <td>AllPub</td>\n",
       "      <td>...</td>\n",
       "      <td>0</td>\n",
       "      <td>NaN</td>\n",
       "      <td>NaN</td>\n",
       "      <td>NaN</td>\n",
       "      <td>0</td>\n",
       "      <td>5</td>\n",
       "      <td>2007</td>\n",
       "      <td>WD</td>\n",
       "      <td>Normal</td>\n",
       "      <td>181500</td>\n",
       "    </tr>\n",
       "    <tr>\n",
       "      <th>2</th>\n",
       "      <td>3</td>\n",
       "      <td>60</td>\n",
       "      <td>RL</td>\n",
       "      <td>68.0</td>\n",
       "      <td>11250</td>\n",
       "      <td>Pave</td>\n",
       "      <td>NaN</td>\n",
       "      <td>IR1</td>\n",
       "      <td>Lvl</td>\n",
       "      <td>AllPub</td>\n",
       "      <td>...</td>\n",
       "      <td>0</td>\n",
       "      <td>NaN</td>\n",
       "      <td>NaN</td>\n",
       "      <td>NaN</td>\n",
       "      <td>0</td>\n",
       "      <td>9</td>\n",
       "      <td>2008</td>\n",
       "      <td>WD</td>\n",
       "      <td>Normal</td>\n",
       "      <td>223500</td>\n",
       "    </tr>\n",
       "    <tr>\n",
       "      <th>3</th>\n",
       "      <td>4</td>\n",
       "      <td>70</td>\n",
       "      <td>RL</td>\n",
       "      <td>60.0</td>\n",
       "      <td>9550</td>\n",
       "      <td>Pave</td>\n",
       "      <td>NaN</td>\n",
       "      <td>IR1</td>\n",
       "      <td>Lvl</td>\n",
       "      <td>AllPub</td>\n",
       "      <td>...</td>\n",
       "      <td>0</td>\n",
       "      <td>NaN</td>\n",
       "      <td>NaN</td>\n",
       "      <td>NaN</td>\n",
       "      <td>0</td>\n",
       "      <td>2</td>\n",
       "      <td>2006</td>\n",
       "      <td>WD</td>\n",
       "      <td>Abnorml</td>\n",
       "      <td>140000</td>\n",
       "    </tr>\n",
       "    <tr>\n",
       "      <th>4</th>\n",
       "      <td>5</td>\n",
       "      <td>60</td>\n",
       "      <td>RL</td>\n",
       "      <td>84.0</td>\n",
       "      <td>14260</td>\n",
       "      <td>Pave</td>\n",
       "      <td>NaN</td>\n",
       "      <td>IR1</td>\n",
       "      <td>Lvl</td>\n",
       "      <td>AllPub</td>\n",
       "      <td>...</td>\n",
       "      <td>0</td>\n",
       "      <td>NaN</td>\n",
       "      <td>NaN</td>\n",
       "      <td>NaN</td>\n",
       "      <td>0</td>\n",
       "      <td>12</td>\n",
       "      <td>2008</td>\n",
       "      <td>WD</td>\n",
       "      <td>Normal</td>\n",
       "      <td>250000</td>\n",
       "    </tr>\n",
       "  </tbody>\n",
       "</table>\n",
       "<p>5 rows × 81 columns</p>\n",
       "</div>"
      ],
      "text/plain": [
       "   Id  MSSubClass MSZoning  LotFrontage  LotArea Street Alley LotShape  \\\n",
       "0   1          60       RL         65.0     8450   Pave   NaN      Reg   \n",
       "1   2          20       RL         80.0     9600   Pave   NaN      Reg   \n",
       "2   3          60       RL         68.0    11250   Pave   NaN      IR1   \n",
       "3   4          70       RL         60.0     9550   Pave   NaN      IR1   \n",
       "4   5          60       RL         84.0    14260   Pave   NaN      IR1   \n",
       "\n",
       "  LandContour Utilities  ... PoolArea PoolQC Fence MiscFeature MiscVal MoSold  \\\n",
       "0         Lvl    AllPub  ...        0    NaN   NaN         NaN       0      2   \n",
       "1         Lvl    AllPub  ...        0    NaN   NaN         NaN       0      5   \n",
       "2         Lvl    AllPub  ...        0    NaN   NaN         NaN       0      9   \n",
       "3         Lvl    AllPub  ...        0    NaN   NaN         NaN       0      2   \n",
       "4         Lvl    AllPub  ...        0    NaN   NaN         NaN       0     12   \n",
       "\n",
       "  YrSold  SaleType  SaleCondition  SalePrice  \n",
       "0   2008        WD         Normal     208500  \n",
       "1   2007        WD         Normal     181500  \n",
       "2   2008        WD         Normal     223500  \n",
       "3   2006        WD        Abnorml     140000  \n",
       "4   2008        WD         Normal     250000  \n",
       "\n",
       "[5 rows x 81 columns]"
      ]
     },
     "execution_count": 1,
     "metadata": {},
     "output_type": "execute_result"
    }
   ],
   "source": [
    "import os\n",
    "import platform\n",
    "import pandas as pd\n",
    "import numpy as np\n",
    "import matplotlib\n",
    "import seaborn as sns\n",
    "import matplotlib.pyplot as plt\n",
    "\n",
    "# Check which platform is running the notebook\n",
    "if platform.system() == 'Windows':\n",
    "    PROJECT_PATH = \"\\\\\".join(os.getcwd().split('\\\\')[:-1])\n",
    "else:\n",
    "    # Assuming a Unix based platform\n",
    "    PROJECT_PATH = \"/\".join(os.getcwd().split('/')[:-1])\n",
    "\n",
    "DATA_PATH = os.path.join(PROJECT_PATH, 'data')\n",
    "TRAIN_DATA_PATH = os.path.join(DATA_PATH, 'train.csv')\n",
    "\n",
    "train_data = pd.read_csv(TRAIN_DATA_PATH)\n",
    "train_data.head()"
   ]
  },
  {
   "cell_type": "markdown",
   "metadata": {},
   "source": [
    "## Training & Testing Sets"
   ]
  },
  {
   "cell_type": "code",
   "execution_count": 2,
   "metadata": {},
   "outputs": [
    {
     "name": "stdout",
     "output_type": "stream",
     "text": [
      "Train Size:  (1022, 80)\n",
      "Test Size:  (438, 80)\n"
     ]
    }
   ],
   "source": [
    "from sklearn.model_selection import train_test_split\n",
    "\n",
    "RANDOM_STATE = 42\n",
    "target_label = 'SalePrice'\n",
    "\n",
    "X = train_data.drop(target_label, axis=1)\n",
    "y = train_data[target_label]\n",
    "\n",
    "X_train, X_test, y_train, y_test = train_test_split(X, y, random_state=RANDOM_STATE, test_size=0.3)\n",
    "print('Train Size: ', X_train.shape)\n",
    "print('Test Size: ', X_test.shape)"
   ]
  },
  {
   "cell_type": "code",
   "execution_count": 3,
   "metadata": {},
   "outputs": [],
   "source": [
    "# Create a copy to manipulate\n",
    "X_train_df = X_train.copy()\n",
    "X_train_df = X_train_df.drop('Id', axis=1)"
   ]
  },
  {
   "cell_type": "code",
   "execution_count": 4,
   "metadata": {},
   "outputs": [
    {
     "name": "stdout",
     "output_type": "stream",
     "text": [
      "Alley         93.542%\n",
      "PoolQC        99.511%\n",
      "Fence         80.235%\n",
      "MiscFeature   96.086%\n"
     ]
    }
   ],
   "source": [
    "from utils.core import *\n",
    "\n",
    "X_train_df = remove_missing_features(X_train_df, verbose=True)"
   ]
  },
  {
   "cell_type": "markdown",
   "metadata": {},
   "source": [
    "## Numeric Features"
   ]
  },
  {
   "cell_type": "code",
   "execution_count": 5,
   "metadata": {},
   "outputs": [
    {
     "data": {
      "text/plain": [
       "(1022, 36)"
      ]
     },
     "execution_count": 5,
     "metadata": {},
     "output_type": "execute_result"
    }
   ],
   "source": [
    "numeric_features = X_train_df.select_dtypes(['int64', 'float64'])\n",
    "numeric_cols = numeric_features.columns.tolist()\n",
    "numeric_features.shape"
   ]
  },
  {
   "cell_type": "code",
   "execution_count": 6,
   "metadata": {},
   "outputs": [],
   "source": [
    "from sklearn.compose import ColumnTransformer\n",
    "from sklearn.impute import SimpleImputer\n",
    "from sklearn.preprocessing import MinMaxScaler\n",
    "from sklearn.pipeline import Pipeline\n",
    "\n",
    "numeric_pipeline = ColumnTransformer([\n",
    "    ('process', Pipeline([\n",
    "        ('impute', SimpleImputer(strategy='median')),\n",
    "        ('scaler', MinMaxScaler())\n",
    "    ]), numeric_cols)\n",
    "])"
   ]
  },
  {
   "cell_type": "code",
   "execution_count": 7,
   "metadata": {},
   "outputs": [
    {
     "name": "stdout",
     "output_type": "stream",
     "text": [
      "Numeric Random Forest RMSE: 31600.591887\n",
      "Numeric Random Forest RMSLE: 0.153450\n"
     ]
    }
   ],
   "source": [
    "from sklearn.ensemble import RandomForestRegressor\n",
    "\n",
    "numeric_training = numeric_pipeline.fit_transform(numeric_features)\n",
    "\n",
    "rand_forest = RandomForestRegressor(random_state=RANDOM_STATE)\n",
    "scores = cross_val_regression(rand_forest, numeric_training, y_train)\n",
    "print('Numeric Random Forest RMSE: {:.6f}'.format(scores['rmse']))\n",
    "print('Numeric Random Forest RMSLE: {:6f}'.format(scores['rmlse']))"
   ]
  },
  {
   "cell_type": "code",
   "execution_count": 9,
   "metadata": {},
   "outputs": [],
   "source": [
    "from sklearn.feature_selection import SelectKBest, f_regression\n",
    "\n",
    "k_best_numeric = SelectKBest(score_func=f_regression, k=15)\n",
    "k_best_numeric_data = k_best_numeric.fit_transform(numeric_training, y_train)"
   ]
  },
  {
   "cell_type": "code",
   "execution_count": 10,
   "metadata": {},
   "outputs": [
    {
     "name": "stdout",
     "output_type": "stream",
     "text": [
      "Numeric Random Forest k=15 RMSE: 31748.538837\n",
      "Numeric Random Forest k=15 RMSLE: 0.157814\n"
     ]
    }
   ],
   "source": [
    "scores = cross_val_regression(rand_forest, k_best_numeric_data, y_train)\n",
    "print('Numeric Random Forest k=15 RMSE: {:.6f}'.format(scores['rmse']))\n",
    "print('Numeric Random Forest k=15 RMSLE: {:6f}'.format(scores['rmlse']))"
   ]
  },
  {
   "cell_type": "markdown",
   "metadata": {},
   "source": [
    "From choosing the best 15 features, the performance of the model has slighly decreased. Trying PCA on the all the numeric values to see if the same scores are maintained"
   ]
  },
  {
   "cell_type": "code",
   "execution_count": 11,
   "metadata": {},
   "outputs": [],
   "source": [
    "from sklearn.decomposition import PCA\n",
    "\n",
    "pca = PCA(random_state=42, n_components=0.99)\n",
    "pca_numeric = pca.fit_transform(numeric_training)"
   ]
  },
  {
   "cell_type": "code",
   "execution_count": 12,
   "metadata": {},
   "outputs": [
    {
     "name": "stdout",
     "output_type": "stream",
     "text": [
      "Numeric Random Forest PCA RMSE: 36132.672838\n",
      "Numeric Random Forest PCA RMSLE: 0.170683\n"
     ]
    }
   ],
   "source": [
    "scores = cross_val_regression(rand_forest, pca_numeric, y_train)\n",
    "print('Numeric Random Forest PCA RMSE: {:.6f}'.format(scores['rmse']))\n",
    "print('Numeric Random Forest PCA RMSLE: {:6f}'.format(scores['rmlse']))"
   ]
  },
  {
   "cell_type": "markdown",
   "metadata": {},
   "source": [
    "Try sampling the outliers to see if that improves overall accuracy"
   ]
  },
  {
   "cell_type": "code",
   "execution_count": 13,
   "metadata": {},
   "outputs": [],
   "source": [
    "from sklearn.utils import resample\n",
    "\n",
    "q1, q3 = y_train.quantile([0.25, 0.75])\n",
    "iqr = q3 - q1\n",
    "max_outliers = q3 + 1.5 * iqr\n",
    "\n",
    "y_outliers = y_train[y_train > max_outliers]\n",
    "X_outliers = numeric_features.loc[y_outliers.index]\n",
    "\n",
    "n_samples = 500\n",
    "X_resampled = resample(X_outliers, random_state=RANDOM_STATE, n_samples=n_samples)\n",
    "y_resampled = resample(y_outliers, random_state=RANDOM_STATE, n_samples=n_samples)"
   ]
  },
  {
   "cell_type": "code",
   "execution_count": 14,
   "metadata": {},
   "outputs": [],
   "source": [
    "X_sampled = pd.concat([numeric_features, X_resampled])\n",
    "y_sampled = pd.concat([y_train, y_resampled])"
   ]
  },
  {
   "cell_type": "code",
   "execution_count": 15,
   "metadata": {},
   "outputs": [],
   "source": [
    "X_sampled = X_sampled.reset_index(drop=True)\n",
    "y_sampled = y_sampled.reset_index(drop=True)"
   ]
  },
  {
   "cell_type": "code",
   "execution_count": 16,
   "metadata": {},
   "outputs": [],
   "source": [
    "X_sampled_processed = numeric_pipeline.transform(X_sampled)"
   ]
  },
  {
   "cell_type": "code",
   "execution_count": 17,
   "metadata": {},
   "outputs": [
    {
     "name": "stdout",
     "output_type": "stream",
     "text": [
      "Numeric Random Forest Resampled Outliers RMSE: 33332.978522\n",
      "Numeric Random Forest Resampled Outliers RMSLE: 0.136032\n"
     ]
    }
   ],
   "source": [
    "scores = cross_val_regression(rand_forest, X_sampled_processed, y_sampled)\n",
    "print('Numeric Random Forest Resampled Outliers RMSE: {:.6f}'.format(scores['rmse']))\n",
    "print('Numeric Random Forest Resampled Outliers RMSLE: {:6f}'.format(scores['rmlse']))"
   ]
  },
  {
   "cell_type": "markdown",
   "metadata": {},
   "source": [
    "From resampling the outliers, we have managed to improve the overall result of the model when looking at the numeric features."
   ]
  },
  {
   "cell_type": "markdown",
   "metadata": {},
   "source": [
    "## Experiment - Scaling the target feature\n",
    "\n",
    "Try scaling the target feature to see if that can improve the distribution of the data as well as improve the overall accuracy of the model"
   ]
  },
  {
   "cell_type": "code",
   "execution_count": 19,
   "metadata": {},
   "outputs": [
    {
     "data": {
      "image/png": "[encoded data removed]",
      "text/plain": [
       "<Figure size 432x288 with 1 Axes>"
      ]
     },
     "metadata": {
      "needs_background": "light"
     },
     "output_type": "display_data"
    }
   ],
   "source": [
    "y_train_log = np.log1p(y_train)\n",
    "\n",
    "sns.distplot(np.log1p(y_train))\n",
    "plt.show()"
   ]
  },
  {
   "cell_type": "code",
   "execution_count": 20,
   "metadata": {},
   "outputs": [
    {
     "name": "stdout",
     "output_type": "stream",
     "text": [
      "Numeric Random Forest Resampled Outliers RMSE: 0.151963\n",
      "Numeric Random Forest Resampled Outliers RMSLE: 0.011731\n"
     ]
    }
   ],
   "source": [
    "scores = cross_val_regression(rand_forest, numeric_training, y_train_log)\n",
    "print('Numeric Random Forest Resampled Outliers RMSE: {:.6f}'.format(scores['rmse']))\n",
    "print('Numeric Random Forest Resampled Outliers RMSLE: {:6f}'.format(scores['rmlse']))"
   ]
  },
  {
   "cell_type": "markdown",
   "metadata": {},
   "source": [
    "Seems to perform fairly well but would need to experiment with returning the actual result to ensure it is working correclly.\n",
    "\n",
    "### Creating a simple random forest model"
   ]
  },
  {
   "cell_type": "code",
   "execution_count": 21,
   "metadata": {},
   "outputs": [
    {
     "data": {
      "text/plain": [
       "RandomForestRegressor(bootstrap=True, ccp_alpha=0.0, criterion='mse',\n",
       "                      max_depth=None, max_features='auto', max_leaf_nodes=None,\n",
       "                      max_samples=None, min_impurity_decrease=0.0,\n",
       "                      min_impurity_split=None, min_samples_leaf=1,\n",
       "                      min_samples_split=2, min_weight_fraction_leaf=0.0,\n",
       "                      n_estimators=100, n_jobs=None, oob_score=False,\n",
       "                      random_state=42, verbose=0, warm_start=False)"
      ]
     },
     "execution_count": 21,
     "metadata": {},
     "output_type": "execute_result"
    }
   ],
   "source": [
    "rand_forest_v1 = RandomForestRegressor(random_state=RANDOM_STATE)\n",
    "rand_forest_v1.fit(numeric_training, y_train_log)"
   ]
  },
  {
   "cell_type": "code",
   "execution_count": 22,
   "metadata": {},
   "outputs": [
    {
     "name": "stdout",
     "output_type": "stream",
     "text": [
      "[167309.95703817 143432.13756843 206152.50111663 ... 118086.72391505\n",
      " 177296.753079   180446.29929771]\n"
     ]
    }
   ],
   "source": [
    "y_pred = rand_forest_v1.predict(numeric_training)\n",
    "y_pred = np.exp(y_pred) - 1\n",
    "print(y_pred)"
   ]
  },
  {
   "cell_type": "code",
   "execution_count": 23,
   "metadata": {},
   "outputs": [
    {
     "data": {
      "text/plain": [
       "13047.920536507903"
      ]
     },
     "execution_count": 23,
     "metadata": {},
     "output_type": "execute_result"
    }
   ],
   "source": [
    "root_mean_squared_error(y_train, y_pred)"
   ]
  },
  {
   "cell_type": "code",
   "execution_count": 24,
   "metadata": {},
   "outputs": [
    {
     "data": {
      "text/plain": [
       "0.056474456859730224"
      ]
     },
     "execution_count": 24,
     "metadata": {},
     "output_type": "execute_result"
    }
   ],
   "source": [
    "root_mean_log_error(y_train, y_pred)"
   ]
  },
  {
   "cell_type": "markdown",
   "metadata": {},
   "source": [
    "Seems to be rather promosing and has show far yeidled the smallest error rate when scaled back. Next I will try and create a simple pipeline to see if it can automatically scale it back"
   ]
  },
  {
   "cell_type": "code",
   "execution_count": 28,
   "metadata": {},
   "outputs": [],
   "source": [
    "from sklearn.compose import TransformedTargetRegressor\n",
    "\n",
    "transformer = TransformedTargetRegressor(regressor=RandomForestRegressor(random_state=RANDOM_STATE),\n",
    "                                        func=np.log1p, inverse_func=lambda x: np.exp(x) - 1)"
   ]
  },
  {
   "cell_type": "code",
   "execution_count": 29,
   "metadata": {},
   "outputs": [
    {
     "name": "stdout",
     "output_type": "stream",
     "text": [
      "Numeric Random Forest Resampled Outliers RMSE: 32222.193085\n",
      "Numeric Random Forest Resampled Outliers RMSLE: 0.151963\n"
     ]
    }
   ],
   "source": [
    "scores = cross_val_regression(transformer, numeric_training, y_train)\n",
    "print('Numeric Random Forest Transformed RMSE: {:.6f}'.format(scores['rmse']))\n",
    "print('Numeric Random Forest Transformed RMSLE: {:6f}'.format(scores['rmlse']))"
   ]
  },
  {
   "cell_type": "markdown",
   "metadata": {},
   "source": [
    "By applying the transformation to the target, the RMSLE has a minor improvement for the overall error score."
   ]
  },
  {
   "cell_type": "markdown",
   "metadata": {},
   "source": [
    "## Categorical Features\n",
    "\n",
    "Bringing in the baseline categorical values to see how it affects the baseline score"
   ]
  },
  {
   "cell_type": "code",
   "execution_count": 36,
   "metadata": {},
   "outputs": [],
   "source": [
    "# Define the ordinal features\n",
    "ordinal_cols = [\n",
    "    'LotShape',\n",
    "    'ExterQual',\n",
    "    'ExterCond',\n",
    "    'BsmtQual',\n",
    "    'BsmtCond',\n",
    "    'BsmtExposure',\n",
    "    'BsmtFinType1',\n",
    "    'BsmtFinType2',\n",
    "    'HeatingQC',\n",
    "    'KitchenQual',\n",
    "    'FireplaceQu',\n",
    "    'GarageQual',\n",
    "    'GarageCond',\n",
    "]\n",
    "\n",
    "object_features = X_train_df.select_dtypes(['object'])\n",
    "object_cols = object_features.columns\n",
    "\n",
    "categorical_cols = object_cols[~object_cols.isin(ordinal_cols)].tolist()"
   ]
  },
  {
   "cell_type": "code",
   "execution_count": 38,
   "metadata": {},
   "outputs": [],
   "source": [
    "ordinal_features = object_features[ordinal_cols]\n",
    "categorical_features = object_features[categorical_cols]"
   ]
  },
  {
   "cell_type": "markdown",
   "metadata": {},
   "source": [
    "Creating a basic pipeline with all the features and without removing the target feature outliers"
   ]
  },
  {
   "cell_type": "code",
   "execution_count": 40,
   "metadata": {},
   "outputs": [],
   "source": [
    "from sklearn.preprocessing import OrdinalEncoder, OneHotEncoder\n",
    "\n",
    "numeric_pipeline = Pipeline([\n",
    "    ('impute', SimpleImputer(strategy='median')),\n",
    "    ('scaler', MinMaxScaler())\n",
    "])\n",
    "\n",
    "ordinal_pipeline = Pipeline([\n",
    "    ('impute', SimpleImputer(strategy='most_frequent')),\n",
    "    ('ordinal', OrdinalEncoder())\n",
    "])\n",
    "\n",
    "categorical_pipeline = Pipeline([\n",
    "    ('impute', SimpleImputer(strategy='most_frequent')),\n",
    "    ('one_hot', OneHotEncoder(handle_unknown='ignore', sparse=False))\n",
    "])\n",
    "\n",
    "processing_pipeline = ColumnTransformer([\n",
    "    ('numeric', numeric_pipeline, numeric_cols),\n",
    "    ('ordinal', ordinal_pipeline, ordinal_cols),\n",
    "    ('categorical', categorical_pipeline, categorical_cols)\n",
    "])"
   ]
  },
  {
   "cell_type": "code",
   "execution_count": 43,
   "metadata": {},
   "outputs": [],
   "source": [
    "X_train_processed = processing_pipeline.fit_transform(X_train)"
   ]
  },
  {
   "cell_type": "code",
   "execution_count": 45,
   "metadata": {},
   "outputs": [
    {
     "name": "stdout",
     "output_type": "stream",
     "text": [
      "Baseline Random Forest Transformed RMSE: 31823.891348\n",
      "Baseline Random Forest Transformed RMSLE: 0.151121\n"
     ]
    }
   ],
   "source": [
    "scores = cross_val_regression(transformer, X_train_processed, y_train)\n",
    "print('Baseline Random Forest Transformed RMSE: {:.6f}'.format(scores['rmse']))\n",
    "print('Baseline Random Forest Transformed RMSLE: {:6f}'.format(scores['rmlse']))"
   ]
  },
  {
   "cell_type": "markdown",
   "metadata": {},
   "source": [
    "By scaling the features, the RMSLE is slightly lower that the original baseline in the first notebook."
   ]
  },
  {
   "cell_type": "markdown",
   "metadata": {},
   "source": [
    "## Improving the result"
   ]
  },
  {
   "cell_type": "code",
   "execution_count": 52,
   "metadata": {},
   "outputs": [],
   "source": [
    "from sklearn.feature_selection import SelectFromModel\n",
    "\n",
    "# Try using an embedded approach first\n",
    "s = SelectFromModel(estimator=rand_forest)\n",
    "X_train_embedded = s.fit_transform(X_train_processed, y_train)"
   ]
  },
  {
   "cell_type": "code",
   "execution_count": 54,
   "metadata": {},
   "outputs": [
    {
     "name": "stdout",
     "output_type": "stream",
     "text": [
      "Random Forest Embedded RMSE: 31978.098952\n",
      "Random Forest Embedded RMSLE: 0.157491\n"
     ]
    }
   ],
   "source": [
    "scores = cross_val_regression(transformer, X_train_embedded, y_train)\n",
    "print('Random Forest Embedded RMSE: {:.6f}'.format(scores['rmse']))\n",
    "print('Random Forest Embedded RMSLE: {:6f}'.format(scores['rmlse']))"
   ]
  },
  {
   "cell_type": "markdown",
   "metadata": {},
   "source": [
    "Compared to using all the original data, this is close to the above score but has decreased in some performance.\n",
    "\n",
    "### Looking into the numeric features"
   ]
  },
  {
   "cell_type": "code",
   "execution_count": 59,
   "metadata": {},
   "outputs": [
    {
     "name": "stdout",
     "output_type": "stream",
     "text": [
      "Found 11 cols\n"
     ]
    }
   ],
   "source": [
    "# See how unique each numeric value is\n",
    "\n",
    "unique_threshold = 10\n",
    "\n",
    "cols_below_threshold = []\n",
    "for col in numeric_cols:\n",
    "    numeric_data = numeric_features[col]\n",
    "    if numeric_data.nunique() < unique_threshold:\n",
    "        cols_below_threshold.append(col)\n",
    "        \n",
    "print('Found {} cols'.format(len(cols_below_threshold)))"
   ]
  },
  {
   "cell_type": "code",
   "execution_count": 65,
   "metadata": {
    "scrolled": false
   },
   "outputs": [
    {
     "data": {
      "image/png": "[encoded data removed]",
      "text/plain": [
       "<Figure size 432x288 with 1 Axes>"
      ]
     },
     "metadata": {
      "needs_background": "light"
     },
     "output_type": "display_data"
    },
    {
     "data": {
      "image/png": "[encoded data removed]",
      "text/plain": [
       "<Figure size 432x288 with 1 Axes>"
      ]
     },
     "metadata": {
      "needs_background": "light"
     },
     "output_type": "display_data"
    },
    {
     "data": {
      "image/png": "[encoded data removed]",
      "text/plain": [
       "<Figure size 432x288 with 1 Axes>"
      ]
     },
     "metadata": {
      "needs_background": "light"
     },
     "output_type": "display_data"
    },
    {
     "data": {
      "image/png": "[encoded data removed]",
      "text/plain": [
       "<Figure size 432x288 with 1 Axes>"
      ]
     },
     "metadata": {
      "needs_background": "light"
     },
     "output_type": "display_data"
    },
    {
     "data": {
      "image/png": "[encoded data removed]",
      "text/plain": [
       "<Figure size 432x288 with 1 Axes>"
      ]
     },
     "metadata": {
      "needs_background": "light"
     },
     "output_type": "display_data"
    },
    {
     "data": {
      "image/png": "[encoded data removed]",
      "text/plain": [
       "<Figure size 432x288 with 1 Axes>"
      ]
     },
     "metadata": {
      "needs_background": "light"
     },
     "output_type": "display_data"
    },
    {
     "data": {
      "image/png": "[encoded data removed]",
      "text/plain": [
       "<Figure size 432x288 with 1 Axes>"
      ]
     },
     "metadata": {
      "needs_background": "light"
     },
     "output_type": "display_data"
    },
    {
     "data": {
      "image/png": "[encoded data removed]",
      "text/plain": [
       "<Figure size 432x288 with 1 Axes>"
      ]
     },
     "metadata": {
      "needs_background": "light"
     },
     "output_type": "display_data"
    },
    {
     "data": {
      "image/png": "[encoded data removed]",
      "text/plain": [
       "<Figure size 432x288 with 1 Axes>"
      ]
     },
     "metadata": {
      "needs_background": "light"
     },
     "output_type": "display_data"
    },
    {
     "data": {
      "image/png": "[encoded data removed]",
      "text/plain": [
       "<Figure size 432x288 with 1 Axes>"
      ]
     },
     "metadata": {
      "needs_background": "light"
     },
     "output_type": "display_data"
    },
    {
     "data": {
      "image/png": "[encoded data removed]",
      "text/plain": [
       "<Figure size 432x288 with 1 Axes>"
      ]
     },
     "metadata": {
      "needs_background": "light"
     },
     "output_type": "display_data"
    }
   ],
   "source": [
    "# Plot the columns\n",
    "\n",
    "for col in cols_below_threshold:\n",
    "    numeric_data = numeric_features[col]\n",
    "    ax = numeric_data.value_counts().sort_index().plot(kind='bar')\n",
    "    ax.set_title('{} Unique Feature Count'.format(col))\n",
    "    ax.set_xlabel(col)\n",
    "    ax.set_ylabel('Count')\n",
    "    plt.show()"
   ]
  },
  {
   "cell_type": "markdown",
   "metadata": {},
   "source": [
    "There is potential to remove a few features here as for some of them have a dominant value that appears. We can remove these features since they won't add any real value to the model"
   ]
  },
  {
   "cell_type": "code",
   "execution_count": 80,
   "metadata": {},
   "outputs": [
    {
     "data": {
      "image/png": "[encoded data removed]",
      "text/plain": [
       "<Figure size 432x288 with 1 Axes>"
      ]
     },
     "metadata": {
      "needs_background": "light"
     },
     "output_type": "display_data"
    }
   ],
   "source": [
    "# plot kitchens above ground against sale price\n",
    "plt.scatter(numeric_features.KitchenAbvGr, y_train)\n",
    "plt.title('Kitchen Above Ground against House Sale Price')\n",
    "plt.ylabel('Sale Price')\n",
    "plt.xticks([0, 1, 2])\n",
    "plt.xlabel('Number of Kitchens')\n",
    "plt.show()"
   ]
  },
  {
   "cell_type": "code",
   "execution_count": 83,
   "metadata": {},
   "outputs": [
    {
     "data": {
      "image/png": "[encoded data removed]",
      "text/plain": [
       "<Figure size 432x288 with 1 Axes>"
      ]
     },
     "metadata": {
      "needs_background": "light"
     },
     "output_type": "display_data"
    }
   ],
   "source": [
    "plt.scatter(numeric_features.PoolArea, y_train)\n",
    "plt.xlabel('Pool Area')\n",
    "plt.ylabel('Sale Price')\n",
    "plt.title('Pool Area against House Sale Price')\n",
    "plt.show()"
   ]
  },
  {
   "cell_type": "code",
   "execution_count": 86,
   "metadata": {},
   "outputs": [
    {
     "data": {
      "image/png": "[encoded data removed]",
      "text/plain": [
       "<Figure size 432x288 with 1 Axes>"
      ]
     },
     "metadata": {
      "needs_background": "light"
     },
     "output_type": "display_data"
    }
   ],
   "source": [
    "plt.scatter(numeric_features.BsmtHalfBath, y_train)\n",
    "plt.xticks([0, 1, 2])\n",
    "plt.xlabel('Basement Half Bathrooms')\n",
    "plt.ylabel('Sale Price')\n",
    "plt.title('Basement Half Bathrooms against House Sale Price')\n",
    "plt.show()"
   ]
  },
  {
   "cell_type": "markdown",
   "metadata": {},
   "source": [
    "Out of the numeric feautres, I will remove `BsmtHalfBath`, `PoolArea` and `KitchenAbvGr` since there doesn't seem to be a clear trend when plotting against the target feature and there is a single dominant feature."
   ]
  },
  {
   "cell_type": "code",
   "execution_count": 93,
   "metadata": {},
   "outputs": [],
   "source": [
    "numeric_features_refined = numeric_features.copy()\n",
    "numeric_features_refined.drop(['BsmtHalfBath', 'PoolArea', 'KitchenAbvGr'], axis=1, inplace=True)"
   ]
  },
  {
   "cell_type": "code",
   "execution_count": 95,
   "metadata": {},
   "outputs": [
    {
     "name": "stdout",
     "output_type": "stream",
     "text": [
      "<class 'pandas.core.frame.DataFrame'>\n",
      "Int64Index: 1022 entries, 135 to 1126\n",
      "Data columns (total 33 columns):\n",
      "MSSubClass       1022 non-null int64\n",
      "LotFrontage      832 non-null float64\n",
      "LotArea          1022 non-null int64\n",
      "OverallQual      1022 non-null int64\n",
      "OverallCond      1022 non-null int64\n",
      "YearBuilt        1022 non-null int64\n",
      "YearRemodAdd     1022 non-null int64\n",
      "MasVnrArea       1019 non-null float64\n",
      "BsmtFinSF1       1022 non-null int64\n",
      "BsmtFinSF2       1022 non-null int64\n",
      "BsmtUnfSF        1022 non-null int64\n",
      "TotalBsmtSF      1022 non-null int64\n",
      "1stFlrSF         1022 non-null int64\n",
      "2ndFlrSF         1022 non-null int64\n",
      "LowQualFinSF     1022 non-null int64\n",
      "GrLivArea        1022 non-null int64\n",
      "BsmtFullBath     1022 non-null int64\n",
      "FullBath         1022 non-null int64\n",
      "HalfBath         1022 non-null int64\n",
      "BedroomAbvGr     1022 non-null int64\n",
      "TotRmsAbvGrd     1022 non-null int64\n",
      "Fireplaces       1022 non-null int64\n",
      "GarageYrBlt      968 non-null float64\n",
      "GarageCars       1022 non-null int64\n",
      "GarageArea       1022 non-null int64\n",
      "WoodDeckSF       1022 non-null int64\n",
      "OpenPorchSF      1022 non-null int64\n",
      "EnclosedPorch    1022 non-null int64\n",
      "3SsnPorch        1022 non-null int64\n",
      "ScreenPorch      1022 non-null int64\n",
      "MiscVal          1022 non-null int64\n",
      "MoSold           1022 non-null int64\n",
      "YrSold           1022 non-null int64\n",
      "dtypes: float64(3), int64(30)\n",
      "memory usage: 271.5 KB\n"
     ]
    }
   ],
   "source": [
    "numeric_features_refined.info()"
   ]
  },
  {
   "cell_type": "code",
   "execution_count": 97,
   "metadata": {},
   "outputs": [
    {
     "data": {
      "text/html": [
       "<div>\n",
       "<style scoped>\n",
       "    .dataframe tbody tr th:only-of-type {\n",
       "        vertical-align: middle;\n",
       "    }\n",
       "\n",
       "    .dataframe tbody tr th {\n",
       "        vertical-align: top;\n",
       "    }\n",
       "\n",
       "    .dataframe thead th {\n",
       "        text-align: right;\n",
       "    }\n",
       "</style>\n",
       "<table border=\"1\" class=\"dataframe\">\n",
       "  <thead>\n",
       "    <tr style=\"text-align: right;\">\n",
       "      <th></th>\n",
       "      <th>GarageYrBlt</th>\n",
       "      <th>MasVnrArea</th>\n",
       "      <th>LotFrontage</th>\n",
       "    </tr>\n",
       "  </thead>\n",
       "  <tbody>\n",
       "    <tr>\n",
       "      <th>135</th>\n",
       "      <td>1970.0</td>\n",
       "      <td>288.0</td>\n",
       "      <td>80.0</td>\n",
       "    </tr>\n",
       "    <tr>\n",
       "      <th>1452</th>\n",
       "      <td>2005.0</td>\n",
       "      <td>80.0</td>\n",
       "      <td>35.0</td>\n",
       "    </tr>\n",
       "    <tr>\n",
       "      <th>762</th>\n",
       "      <td>2009.0</td>\n",
       "      <td>0.0</td>\n",
       "      <td>72.0</td>\n",
       "    </tr>\n",
       "    <tr>\n",
       "      <th>932</th>\n",
       "      <td>2006.0</td>\n",
       "      <td>302.0</td>\n",
       "      <td>84.0</td>\n",
       "    </tr>\n",
       "    <tr>\n",
       "      <th>435</th>\n",
       "      <td>1996.0</td>\n",
       "      <td>0.0</td>\n",
       "      <td>43.0</td>\n",
       "    </tr>\n",
       "    <tr>\n",
       "      <th>...</th>\n",
       "      <td>...</td>\n",
       "      <td>...</td>\n",
       "      <td>...</td>\n",
       "    </tr>\n",
       "    <tr>\n",
       "      <th>1095</th>\n",
       "      <td>2006.0</td>\n",
       "      <td>0.0</td>\n",
       "      <td>78.0</td>\n",
       "    </tr>\n",
       "    <tr>\n",
       "      <th>1130</th>\n",
       "      <td>1981.0</td>\n",
       "      <td>0.0</td>\n",
       "      <td>65.0</td>\n",
       "    </tr>\n",
       "    <tr>\n",
       "      <th>1294</th>\n",
       "      <td>1957.0</td>\n",
       "      <td>0.0</td>\n",
       "      <td>60.0</td>\n",
       "    </tr>\n",
       "    <tr>\n",
       "      <th>860</th>\n",
       "      <td>1925.0</td>\n",
       "      <td>0.0</td>\n",
       "      <td>55.0</td>\n",
       "    </tr>\n",
       "    <tr>\n",
       "      <th>1126</th>\n",
       "      <td>2007.0</td>\n",
       "      <td>130.0</td>\n",
       "      <td>53.0</td>\n",
       "    </tr>\n",
       "  </tbody>\n",
       "</table>\n",
       "<p>1022 rows × 3 columns</p>\n",
       "</div>"
      ],
      "text/plain": [
       "      GarageYrBlt  MasVnrArea  LotFrontage\n",
       "135        1970.0       288.0         80.0\n",
       "1452       2005.0        80.0         35.0\n",
       "762        2009.0         0.0         72.0\n",
       "932        2006.0       302.0         84.0\n",
       "435        1996.0         0.0         43.0\n",
       "...           ...         ...          ...\n",
       "1095       2006.0         0.0         78.0\n",
       "1130       1981.0         0.0         65.0\n",
       "1294       1957.0         0.0         60.0\n",
       "860        1925.0         0.0         55.0\n",
       "1126       2007.0       130.0         53.0\n",
       "\n",
       "[1022 rows x 3 columns]"
      ]
     },
     "execution_count": 97,
     "metadata": {},
     "output_type": "execute_result"
    }
   ],
   "source": [
    "cols_with_missing_values = ['GarageYrBlt', 'MasVnrArea', 'LotFrontage']\n",
    "numeric_features_refined[cols_with_missing_values]"
   ]
  },
  {
   "cell_type": "markdown",
   "metadata": {},
   "source": [
    "For these 3 features, I assume that if they have missing values then it is down to the fact that these features are not present on the house. To resolve the missing values, I will impute them with zero instead to denote they don't have them.\n",
    "\n",
    "Additionally, a feature for has garage can be built from this"
   ]
  },
  {
   "cell_type": "code",
   "execution_count": 107,
   "metadata": {},
   "outputs": [
    {
     "name": "stdout",
     "output_type": "stream",
     "text": [
      "Random Forest Refined Numeric features RMSE: 32069.236160\n",
      "Random Forest Refined Numeric features RMSLE: 0.152867\n"
     ]
    }
   ],
   "source": [
    "numeric_features_refined.fillna(0, inplace=True)\n",
    "scores = cross_val_regression(transformer, numeric_features_refined, y_train)\n",
    "print('Random Forest Refined Numeric features RMSE: {:.6f}'.format(scores['rmse']))\n",
    "print('Random Forest Refined Numeric features RMSLE: {:6f}'.format(scores['rmlse']))"
   ]
  },
  {
   "cell_type": "markdown",
   "metadata": {},
   "source": [
    "Compared to the original baseline numeric model, there has been an improvement in RMSLE, previously it was 0.17 whereas not it is 0.15."
   ]
  },
  {
   "cell_type": "code",
   "execution_count": 109,
   "metadata": {},
   "outputs": [],
   "source": [
    "numeric_cols_v2 = numeric_features_refined.columns.tolist()"
   ]
  },
  {
   "cell_type": "code",
   "execution_count": 110,
   "metadata": {},
   "outputs": [],
   "source": [
    "numeric_pipeline_v2 = Pipeline([\n",
    "    ('impute', SimpleImputer(strategy='constant', fill_value=0)),\n",
    "    ('scaler', MinMaxScaler())\n",
    "])\n",
    "\n",
    "processing_pipeline_v2 = ColumnTransformer([\n",
    "    ('numeric', numeric_pipeline_v2, numeric_cols_v2),\n",
    "    ('ordinal', ordinal_pipeline, ordinal_cols),\n",
    "    ('categorical', categorical_pipeline, categorical_cols)\n",
    "])"
   ]
  },
  {
   "cell_type": "code",
   "execution_count": 114,
   "metadata": {},
   "outputs": [],
   "source": [
    "X_train_processed_v2 = processing_pipeline_v2.fit_transform(X_train)"
   ]
  },
  {
   "cell_type": "code",
   "execution_count": 116,
   "metadata": {},
   "outputs": [
    {
     "name": "stdout",
     "output_type": "stream",
     "text": [
      "Random Forest Pipeline V2 RMSE: 32040.924372\n",
      "Random Forest Pipeline V2 features RMSLE: 0.151541\n"
     ]
    }
   ],
   "source": [
    "scores = cross_val_regression(transformer, X_train_processed_v2, y_train)\n",
    "print('Random Forest Pipeline V2 RMSE: {:.6f}'.format(scores['rmse']))\n",
    "print('Random Forest Pipeline V2 features RMSLE: {:6f}'.format(scores['rmlse']))"
   ]
  },
  {
   "cell_type": "markdown",
   "metadata": {},
   "source": [
    "From imputing missing numeric values with zero and integrating that into a new pipeline, we have got a minor improvement in RMSLE and RMSE."
   ]
  },
  {
   "cell_type": "markdown",
   "metadata": {},
   "source": [
    "### Ordinal Features"
   ]
  },
  {
   "cell_type": "code",
   "execution_count": 124,
   "metadata": {
    "scrolled": false
   },
   "outputs": [
    {
     "data": {
      "image/png": "[encoded data removed]",
      "text/plain": [
       "<Figure size 432x288 with 1 Axes>"
      ]
     },
     "metadata": {
      "needs_background": "light"
     },
     "output_type": "display_data"
    },
    {
     "data": {
      "image/png": "[encoded data removed]",
      "text/plain": [
       "<Figure size 432x288 with 1 Axes>"
      ]
     },
     "metadata": {
      "needs_background": "light"
     },
     "output_type": "display_data"
    },
    {
     "data": {
      "image/png": "[encoded data removed]",
      "text/plain": [
       "<Figure size 432x288 with 1 Axes>"
      ]
     },
     "metadata": {
      "needs_background": "light"
     },
     "output_type": "display_data"
    },
    {
     "data": {
      "image/png": "[encoded data removed]",
      "text/plain": [
       "<Figure size 432x288 with 1 Axes>"
      ]
     },
     "metadata": {
      "needs_background": "light"
     },
     "output_type": "display_data"
    },
    {
     "data": {
      "image/png": "[encoded data removed]",
      "text/plain": [
       "<Figure size 432x288 with 1 Axes>"
      ]
     },
     "metadata": {
      "needs_background": "light"
     },
     "output_type": "display_data"
    },
    {
     "data": {
      "image/png": "[encoded data removed]",
      "text/plain": [
       "<Figure size 432x288 with 1 Axes>"
      ]
     },
     "metadata": {
      "needs_background": "light"
     },
     "output_type": "display_data"
    },
    {
     "data": {
      "image/png": "[encoded data removed]",
      "text/plain": [
       "<Figure size 432x288 with 1 Axes>"
      ]
     },
     "metadata": {
      "needs_background": "light"
     },
     "output_type": "display_data"
    },
    {
     "data": {
      "image/png": "[encoded data removed]",
      "text/plain": [
       "<Figure size 432x288 with 1 Axes>"
      ]
     },
     "metadata": {
      "needs_background": "light"
     },
     "output_type": "display_data"
    },
    {
     "data": {
      "image/png": "[encoded data removed]",
      "text/plain": [
       "<Figure size 432x288 with 1 Axes>"
      ]
     },
     "metadata": {
      "needs_background": "light"
     },
     "output_type": "display_data"
    },
    {
     "data": {
      "image/png": "[encoded data removed]",
      "text/plain": [
       "<Figure size 432x288 with 1 Axes>"
      ]
     },
     "metadata": {
      "needs_background": "light"
     },
     "output_type": "display_data"
    },
    {
     "data": {
      "image/png": "[encoded data removed]",
      "text/plain": [
       "<Figure size 432x288 with 1 Axes>"
      ]
     },
     "metadata": {
      "needs_background": "light"
     },
     "output_type": "display_data"
    },
    {
     "data": {
      "image/png": "[encoded data removed]",
      "text/plain": [
       "<Figure size 432x288 with 1 Axes>"
      ]
     },
     "metadata": {
      "needs_background": "light"
     },
     "output_type": "display_data"
    },
    {
     "data": {
      "image/png": "[encoded data removed]",
      "text/plain": [
       "<Figure size 432x288 with 1 Axes>"
      ]
     },
     "metadata": {
      "needs_background": "light"
     },
     "output_type": "display_data"
    }
   ],
   "source": [
    "for col in ordinal_cols:\n",
    "    col_data = ordinal_features[col]\n",
    "    ax = col_data.value_counts().plot(kind='bar')\n",
    "    ax.set_title('{} Values'.format(col))\n",
    "    ax.set_xlabel(col)\n",
    "    ax.set_ylabel('Count')\n",
    "    plt.show()"
   ]
  },
  {
   "cell_type": "markdown",
   "metadata": {},
   "source": [
    "With the ordinal data, there seems to be a few where there is a clear and very dominant value. Features include:\n",
    "\n",
    "* `GarageCond`\n",
    "* `GarageQual`\n",
    "* `BsmtFinType2`\n",
    "* `BsmtCond`\n",
    "* `ExterCond`\n",
    "\n",
    "As with the numeric values, I will remove these from the final model"
   ]
  },
  {
   "cell_type": "code",
   "execution_count": 135,
   "metadata": {},
   "outputs": [],
   "source": [
    "cols_to_remove = ['GarageCond', 'GarageQual', 'BsmtFinType2', 'BsmtCond', 'ExterCond']\n",
    "ordinal_features_v2 = ordinal_features.copy()\n",
    "ordinal_features_v2.drop(cols_to_remove, axis=1, inplace=True)"
   ]
  },
  {
   "cell_type": "code",
   "execution_count": 136,
   "metadata": {},
   "outputs": [],
   "source": [
    "ordinal_cols_v2 = ordinal_features_v2.columns.tolist()"
   ]
  },
  {
   "cell_type": "code",
   "execution_count": 138,
   "metadata": {},
   "outputs": [
    {
     "name": "stdout",
     "output_type": "stream",
     "text": [
      "<class 'pandas.core.frame.DataFrame'>\n",
      "Int64Index: 1022 entries, 135 to 1126\n",
      "Data columns (total 8 columns):\n",
      "LotShape        1022 non-null object\n",
      "ExterQual       1022 non-null object\n",
      "BsmtQual        996 non-null object\n",
      "BsmtExposure    996 non-null object\n",
      "BsmtFinType1    996 non-null object\n",
      "HeatingQC       1022 non-null object\n",
      "KitchenQual     1022 non-null object\n",
      "FireplaceQu     535 non-null object\n",
      "dtypes: object(8)\n",
      "memory usage: 71.9+ KB\n"
     ]
    }
   ],
   "source": [
    "# Finding out how many are null\n",
    "ordinal_features_v2.info()"
   ]
  }
 ],
 "metadata": {
  "kernelspec": {
   "display_name": "Python 3",
   "language": "python",
   "name": "python3"
  },
  "language_info": {
   "codemirror_mode": {
    "name": "ipython",
    "version": 3
   },
   "file_extension": ".py",
   "mimetype": "text/x-python",
   "name": "python",
   "nbconvert_exporter": "python",
   "pygments_lexer": "ipython3",
   "version": "3.5.4"
  }
 },
 "nbformat": 4,
 "nbformat_minor": 4
}
